{
 "cells": [
  {
   "cell_type": "markdown",
   "metadata": {},
   "source": [
    "## Observations and Insights "
   ]
  },
  {
   "cell_type": "markdown",
   "metadata": {},
   "source": []
  },
  {
   "cell_type": "code",
   "execution_count": 67,
   "metadata": {},
   "outputs": [
    {
     "data": {
      "text/html": [
       "<div>\n",
       "<style scoped>\n",
       "    .dataframe tbody tr th:only-of-type {\n",
       "        vertical-align: middle;\n",
       "    }\n",
       "\n",
       "    .dataframe tbody tr th {\n",
       "        vertical-align: top;\n",
       "    }\n",
       "\n",
       "    .dataframe thead th {\n",
       "        text-align: right;\n",
       "    }\n",
       "</style>\n",
       "<table border=\"1\" class=\"dataframe\">\n",
       "  <thead>\n",
       "    <tr style=\"text-align: right;\">\n",
       "      <th></th>\n",
       "      <th>Mouse ID</th>\n",
       "      <th>Drug Regimen</th>\n",
       "      <th>Sex</th>\n",
       "      <th>Age_months</th>\n",
       "      <th>Weight (g)</th>\n",
       "      <th>Timepoint</th>\n",
       "      <th>Tumor Volume (mm3)</th>\n",
       "      <th>Metastatic Sites</th>\n",
       "    </tr>\n",
       "  </thead>\n",
       "  <tbody>\n",
       "    <tr>\n",
       "      <th>0</th>\n",
       "      <td>k403</td>\n",
       "      <td>Ramicane</td>\n",
       "      <td>Male</td>\n",
       "      <td>21</td>\n",
       "      <td>16</td>\n",
       "      <td>0</td>\n",
       "      <td>45.000000</td>\n",
       "      <td>0</td>\n",
       "    </tr>\n",
       "    <tr>\n",
       "      <th>1</th>\n",
       "      <td>k403</td>\n",
       "      <td>Ramicane</td>\n",
       "      <td>Male</td>\n",
       "      <td>21</td>\n",
       "      <td>16</td>\n",
       "      <td>5</td>\n",
       "      <td>38.825898</td>\n",
       "      <td>0</td>\n",
       "    </tr>\n",
       "    <tr>\n",
       "      <th>2</th>\n",
       "      <td>k403</td>\n",
       "      <td>Ramicane</td>\n",
       "      <td>Male</td>\n",
       "      <td>21</td>\n",
       "      <td>16</td>\n",
       "      <td>10</td>\n",
       "      <td>35.014271</td>\n",
       "      <td>1</td>\n",
       "    </tr>\n",
       "    <tr>\n",
       "      <th>3</th>\n",
       "      <td>k403</td>\n",
       "      <td>Ramicane</td>\n",
       "      <td>Male</td>\n",
       "      <td>21</td>\n",
       "      <td>16</td>\n",
       "      <td>15</td>\n",
       "      <td>34.223992</td>\n",
       "      <td>1</td>\n",
       "    </tr>\n",
       "    <tr>\n",
       "      <th>4</th>\n",
       "      <td>k403</td>\n",
       "      <td>Ramicane</td>\n",
       "      <td>Male</td>\n",
       "      <td>21</td>\n",
       "      <td>16</td>\n",
       "      <td>20</td>\n",
       "      <td>32.997729</td>\n",
       "      <td>1</td>\n",
       "    </tr>\n",
       "    <tr>\n",
       "      <th>...</th>\n",
       "      <td>...</td>\n",
       "      <td>...</td>\n",
       "      <td>...</td>\n",
       "      <td>...</td>\n",
       "      <td>...</td>\n",
       "      <td>...</td>\n",
       "      <td>...</td>\n",
       "      <td>...</td>\n",
       "    </tr>\n",
       "    <tr>\n",
       "      <th>1888</th>\n",
       "      <td>z969</td>\n",
       "      <td>Naftisol</td>\n",
       "      <td>Male</td>\n",
       "      <td>9</td>\n",
       "      <td>30</td>\n",
       "      <td>25</td>\n",
       "      <td>63.145652</td>\n",
       "      <td>2</td>\n",
       "    </tr>\n",
       "    <tr>\n",
       "      <th>1889</th>\n",
       "      <td>z969</td>\n",
       "      <td>Naftisol</td>\n",
       "      <td>Male</td>\n",
       "      <td>9</td>\n",
       "      <td>30</td>\n",
       "      <td>30</td>\n",
       "      <td>65.841013</td>\n",
       "      <td>3</td>\n",
       "    </tr>\n",
       "    <tr>\n",
       "      <th>1890</th>\n",
       "      <td>z969</td>\n",
       "      <td>Naftisol</td>\n",
       "      <td>Male</td>\n",
       "      <td>9</td>\n",
       "      <td>30</td>\n",
       "      <td>35</td>\n",
       "      <td>69.176246</td>\n",
       "      <td>4</td>\n",
       "    </tr>\n",
       "    <tr>\n",
       "      <th>1891</th>\n",
       "      <td>z969</td>\n",
       "      <td>Naftisol</td>\n",
       "      <td>Male</td>\n",
       "      <td>9</td>\n",
       "      <td>30</td>\n",
       "      <td>40</td>\n",
       "      <td>70.314904</td>\n",
       "      <td>4</td>\n",
       "    </tr>\n",
       "    <tr>\n",
       "      <th>1892</th>\n",
       "      <td>z969</td>\n",
       "      <td>Naftisol</td>\n",
       "      <td>Male</td>\n",
       "      <td>9</td>\n",
       "      <td>30</td>\n",
       "      <td>45</td>\n",
       "      <td>73.867845</td>\n",
       "      <td>4</td>\n",
       "    </tr>\n",
       "  </tbody>\n",
       "</table>\n",
       "<p>1893 rows × 8 columns</p>\n",
       "</div>"
      ],
      "text/plain": [
       "     Mouse ID Drug Regimen   Sex  Age_months  Weight (g)  Timepoint  \\\n",
       "0        k403     Ramicane  Male          21          16          0   \n",
       "1        k403     Ramicane  Male          21          16          5   \n",
       "2        k403     Ramicane  Male          21          16         10   \n",
       "3        k403     Ramicane  Male          21          16         15   \n",
       "4        k403     Ramicane  Male          21          16         20   \n",
       "...       ...          ...   ...         ...         ...        ...   \n",
       "1888     z969     Naftisol  Male           9          30         25   \n",
       "1889     z969     Naftisol  Male           9          30         30   \n",
       "1890     z969     Naftisol  Male           9          30         35   \n",
       "1891     z969     Naftisol  Male           9          30         40   \n",
       "1892     z969     Naftisol  Male           9          30         45   \n",
       "\n",
       "      Tumor Volume (mm3)  Metastatic Sites  \n",
       "0              45.000000                 0  \n",
       "1              38.825898                 0  \n",
       "2              35.014271                 1  \n",
       "3              34.223992                 1  \n",
       "4              32.997729                 1  \n",
       "...                  ...               ...  \n",
       "1888           63.145652                 2  \n",
       "1889           65.841013                 3  \n",
       "1890           69.176246                 4  \n",
       "1891           70.314904                 4  \n",
       "1892           73.867845                 4  \n",
       "\n",
       "[1893 rows x 8 columns]"
      ]
     },
     "execution_count": 67,
     "metadata": {},
     "output_type": "execute_result"
    }
   ],
   "source": [
    "# Dependencies and Setup\n",
    "import matplotlib.pyplot as plt\n",
    "import pandas as pd\n",
    "import scipy.stats as st\n",
    "import numpy as np\n",
    "\n",
    "# Study data files\n",
    "mouse_metadata_path = \"data/Mouse_metadata.csv\"\n",
    "study_results_path = \"data/Study_results.csv\"\n",
    "\n",
    "# Read the mouse data and the study results\n",
    "mouse_metadata = pd.read_csv(mouse_metadata_path)\n",
    "study_results = pd.read_csv(study_results_path)\n",
    "\n",
    "# Combine the data into a single dataset\n",
    "mouse_metadata_df = pd.read_csv(mouse_metadata_path)\n",
    "study_results_df = pd.read_csv(study_results_path)\n",
    "\n",
    "combinedf= mouse_metadata_df.merge(study_results_df,on='Mouse ID')\n",
    "combinedf\n",
    "\n",
    "# Display the data table for preview\n"
   ]
  },
  {
   "cell_type": "code",
   "execution_count": 68,
   "metadata": {},
   "outputs": [
    {
     "data": {
      "text/plain": [
       "Mouse ID               object\n",
       "Drug Regimen           object\n",
       "Sex                    object\n",
       "Age_months              int64\n",
       "Weight (g)              int64\n",
       "Timepoint               int64\n",
       "Tumor Volume (mm3)    float64\n",
       "Metastatic Sites        int64\n",
       "dtype: object"
      ]
     },
     "execution_count": 68,
     "metadata": {},
     "output_type": "execute_result"
    }
   ],
   "source": [
    "#type of data\n",
    "combinedf.dtypes\n"
   ]
  },
  {
   "cell_type": "code",
   "execution_count": 69,
   "metadata": {},
   "outputs": [
    {
     "data": {
      "text/plain": [
       "g989    13\n",
       "e213    10\n",
       "c757    10\n",
       "a818    10\n",
       "y769    10\n",
       "        ..\n",
       "x336     1\n",
       "b447     1\n",
       "d133     1\n",
       "n482     1\n",
       "o848     1\n",
       "Name: Mouse ID, Length: 249, dtype: int64"
      ]
     },
     "execution_count": 69,
     "metadata": {},
     "output_type": "execute_result"
    }
   ],
   "source": [
    "# Checking the number of mice.\n",
    "count = combinedf[\"Mouse ID\"].value_counts()\n",
    "count"
   ]
  },
  {
   "cell_type": "code",
   "execution_count": 56,
   "metadata": {},
   "outputs": [
    {
     "data": {
      "text/plain": [
       "array(['k403', 's185', 'x401', 'm601', 'g791', 's508', 'f966', 'm546',\n",
       "       'z578', 'j913', 'u364', 'n364', 'y793', 'r554', 'm957', 'c758',\n",
       "       't565', 'a644', 'i177', 'j989', 'i738', 'a520', 'w914', 'r811',\n",
       "       'g288', 'i334', 'q610', 'd251', 'l897', 'c458', 'b742', 'b128',\n",
       "       'j246', 'a411', 'j119', 'w150', 'v923', 'g316', 's710', 'l509',\n",
       "       'r944', 'e662', 'u196', 'q597', 'a444', 'i557', 'r921', 'w678',\n",
       "       'y449', 'a203', 'a251', 'a262', 'a275', 'a366', 'a401', 'a457',\n",
       "       'a492', 'a577', 'a685', 'a699', 'a788', 'a818', 'a897', 'a963',\n",
       "       'b313', 'b447', 'b487', 'b559', 'b759', 'b879', 'c139', 'c264',\n",
       "       'c282', 'c302', 'c326', 'c402', 'c559', 'c580', 'c757', 'c766',\n",
       "       'c819', 'c832', 'c895', 'c927', 'd133', 'd164', 'd474', 'e213',\n",
       "       'e227', 'e291', 'e476', 'e584', 'f129', 'f234', 'f278', 'f345',\n",
       "       'f394', 'f436', 'f545', 'f932', 'f993', 'g107', 'g296', 'g497',\n",
       "       'g558', 'g570', 'g867', 'g989', 'h246', 'h333', 'h428', 'h531',\n",
       "       'i386', 'i477', 'i635', 'i669', 'i901', 'j235', 'j296', 'j365',\n",
       "       'j755', 'j984', 'k210', 'k382', 'k483', 'k510', 'k603', 'k754',\n",
       "       'k804', 'k862', 'k894', 'l215', 'l264', 'l471', 'l490', 'l558',\n",
       "       'l661', 'l700', 'l725', 'l733', 'l872', 'm133', 'm269', 'm331',\n",
       "       'm550', 'm650', 'm756', 'n304', 'n482', 'n630', 'n671', 'n678',\n",
       "       'n763', 'n923', 'n967', 'o287', 'o302', 'o331', 'o523', 'o562',\n",
       "       'o725', 'o795', 'o809', 'o813', 'o848', 'o926', 'o973', 'p136',\n",
       "       'p189', 'p310', 'p387', 'p438', 'p981', 'q119', 'q132', 'q483',\n",
       "       'q511', 'q582', 'q633', 'q787', 'r107', 'r157', 'r604', 'r701',\n",
       "       'r850', 's121', 's141', 's152', 's166', 's187', 's337', 's565',\n",
       "       's619', 't198', 't451', 't573', 't718', 't724', 't994', 'u149',\n",
       "       'u153', 'u327', 'u946', 'v199', 'v289', 'v295', 'v339', 'v409',\n",
       "       'v603', 'v719', 'v764', 'v766', 'v835', 'v989', 'v991', 'w140',\n",
       "       'w151', 'w167', 'w193', 'w350', 'w422', 'w540', 'w575', 'w584',\n",
       "       'w697', 'w746', 'x111', 'x209', 'x226', 'x264', 'x336', 'x402',\n",
       "       'x581', 'x613', 'x773', 'x822', 'x930', 'y163', 'y260', 'y478',\n",
       "       'y601', 'y769', 'y865', 'z234', 'z314', 'z435', 'z581', 'z795',\n",
       "       'z969'], dtype=object)"
      ]
     },
     "execution_count": 56,
     "metadata": {},
     "output_type": "execute_result"
    }
   ],
   "source": [
    "# Getting the duplicate mice by ID number that shows up for Mouse ID and Timepoint. \n",
    "\n",
    "unique = combinedf[\"Mouse ID\"].unique()\n",
    "unique"
   ]
  },
  {
   "cell_type": "code",
   "execution_count": 70,
   "metadata": {},
   "outputs": [
    {
     "data": {
      "text/plain": [
       "0       False\n",
       "1       False\n",
       "2       False\n",
       "3       False\n",
       "4       False\n",
       "        ...  \n",
       "1888    False\n",
       "1889    False\n",
       "1890    False\n",
       "1891    False\n",
       "1892    False\n",
       "Length: 1893, dtype: bool"
      ]
     },
     "execution_count": 70,
     "metadata": {},
     "output_type": "execute_result"
    }
   ],
   "source": [
    "# Optional: Get all the data for the duplicate mouse ID. \n",
    "\n",
    "combinedf.duplicated()"
   ]
  },
  {
   "cell_type": "code",
   "execution_count": 71,
   "metadata": {},
   "outputs": [
    {
     "data": {
      "text/html": [
       "<div>\n",
       "<style scoped>\n",
       "    .dataframe tbody tr th:only-of-type {\n",
       "        vertical-align: middle;\n",
       "    }\n",
       "\n",
       "    .dataframe tbody tr th {\n",
       "        vertical-align: top;\n",
       "    }\n",
       "\n",
       "    .dataframe thead th {\n",
       "        text-align: right;\n",
       "    }\n",
       "</style>\n",
       "<table border=\"1\" class=\"dataframe\">\n",
       "  <thead>\n",
       "    <tr style=\"text-align: right;\">\n",
       "      <th></th>\n",
       "      <th>Mouse ID</th>\n",
       "      <th>Drug Regimen</th>\n",
       "      <th>Sex</th>\n",
       "      <th>Age_months</th>\n",
       "      <th>Weight (g)</th>\n",
       "      <th>Timepoint</th>\n",
       "      <th>Tumor Volume (mm3)</th>\n",
       "      <th>Metastatic Sites</th>\n",
       "    </tr>\n",
       "  </thead>\n",
       "  <tbody>\n",
       "    <tr>\n",
       "      <th>0</th>\n",
       "      <td>k403</td>\n",
       "      <td>Ramicane</td>\n",
       "      <td>Male</td>\n",
       "      <td>21</td>\n",
       "      <td>16</td>\n",
       "      <td>0</td>\n",
       "      <td>45.000000</td>\n",
       "      <td>0</td>\n",
       "    </tr>\n",
       "    <tr>\n",
       "      <th>1</th>\n",
       "      <td>k403</td>\n",
       "      <td>Ramicane</td>\n",
       "      <td>Male</td>\n",
       "      <td>21</td>\n",
       "      <td>16</td>\n",
       "      <td>5</td>\n",
       "      <td>38.825898</td>\n",
       "      <td>0</td>\n",
       "    </tr>\n",
       "    <tr>\n",
       "      <th>2</th>\n",
       "      <td>k403</td>\n",
       "      <td>Ramicane</td>\n",
       "      <td>Male</td>\n",
       "      <td>21</td>\n",
       "      <td>16</td>\n",
       "      <td>10</td>\n",
       "      <td>35.014271</td>\n",
       "      <td>1</td>\n",
       "    </tr>\n",
       "    <tr>\n",
       "      <th>3</th>\n",
       "      <td>k403</td>\n",
       "      <td>Ramicane</td>\n",
       "      <td>Male</td>\n",
       "      <td>21</td>\n",
       "      <td>16</td>\n",
       "      <td>15</td>\n",
       "      <td>34.223992</td>\n",
       "      <td>1</td>\n",
       "    </tr>\n",
       "    <tr>\n",
       "      <th>4</th>\n",
       "      <td>k403</td>\n",
       "      <td>Ramicane</td>\n",
       "      <td>Male</td>\n",
       "      <td>21</td>\n",
       "      <td>16</td>\n",
       "      <td>20</td>\n",
       "      <td>32.997729</td>\n",
       "      <td>1</td>\n",
       "    </tr>\n",
       "    <tr>\n",
       "      <th>...</th>\n",
       "      <td>...</td>\n",
       "      <td>...</td>\n",
       "      <td>...</td>\n",
       "      <td>...</td>\n",
       "      <td>...</td>\n",
       "      <td>...</td>\n",
       "      <td>...</td>\n",
       "      <td>...</td>\n",
       "    </tr>\n",
       "    <tr>\n",
       "      <th>1888</th>\n",
       "      <td>z969</td>\n",
       "      <td>Naftisol</td>\n",
       "      <td>Male</td>\n",
       "      <td>9</td>\n",
       "      <td>30</td>\n",
       "      <td>25</td>\n",
       "      <td>63.145652</td>\n",
       "      <td>2</td>\n",
       "    </tr>\n",
       "    <tr>\n",
       "      <th>1889</th>\n",
       "      <td>z969</td>\n",
       "      <td>Naftisol</td>\n",
       "      <td>Male</td>\n",
       "      <td>9</td>\n",
       "      <td>30</td>\n",
       "      <td>30</td>\n",
       "      <td>65.841013</td>\n",
       "      <td>3</td>\n",
       "    </tr>\n",
       "    <tr>\n",
       "      <th>1890</th>\n",
       "      <td>z969</td>\n",
       "      <td>Naftisol</td>\n",
       "      <td>Male</td>\n",
       "      <td>9</td>\n",
       "      <td>30</td>\n",
       "      <td>35</td>\n",
       "      <td>69.176246</td>\n",
       "      <td>4</td>\n",
       "    </tr>\n",
       "    <tr>\n",
       "      <th>1891</th>\n",
       "      <td>z969</td>\n",
       "      <td>Naftisol</td>\n",
       "      <td>Male</td>\n",
       "      <td>9</td>\n",
       "      <td>30</td>\n",
       "      <td>40</td>\n",
       "      <td>70.314904</td>\n",
       "      <td>4</td>\n",
       "    </tr>\n",
       "    <tr>\n",
       "      <th>1892</th>\n",
       "      <td>z969</td>\n",
       "      <td>Naftisol</td>\n",
       "      <td>Male</td>\n",
       "      <td>9</td>\n",
       "      <td>30</td>\n",
       "      <td>45</td>\n",
       "      <td>73.867845</td>\n",
       "      <td>4</td>\n",
       "    </tr>\n",
       "  </tbody>\n",
       "</table>\n",
       "<p>1892 rows × 8 columns</p>\n",
       "</div>"
      ],
      "text/plain": [
       "     Mouse ID Drug Regimen   Sex  Age_months  Weight (g)  Timepoint  \\\n",
       "0        k403     Ramicane  Male          21          16          0   \n",
       "1        k403     Ramicane  Male          21          16          5   \n",
       "2        k403     Ramicane  Male          21          16         10   \n",
       "3        k403     Ramicane  Male          21          16         15   \n",
       "4        k403     Ramicane  Male          21          16         20   \n",
       "...       ...          ...   ...         ...         ...        ...   \n",
       "1888     z969     Naftisol  Male           9          30         25   \n",
       "1889     z969     Naftisol  Male           9          30         30   \n",
       "1890     z969     Naftisol  Male           9          30         35   \n",
       "1891     z969     Naftisol  Male           9          30         40   \n",
       "1892     z969     Naftisol  Male           9          30         45   \n",
       "\n",
       "      Tumor Volume (mm3)  Metastatic Sites  \n",
       "0              45.000000                 0  \n",
       "1              38.825898                 0  \n",
       "2              35.014271                 1  \n",
       "3              34.223992                 1  \n",
       "4              32.997729                 1  \n",
       "...                  ...               ...  \n",
       "1888           63.145652                 2  \n",
       "1889           65.841013                 3  \n",
       "1890           69.176246                 4  \n",
       "1891           70.314904                 4  \n",
       "1892           73.867845                 4  \n",
       "\n",
       "[1892 rows x 8 columns]"
      ]
     },
     "execution_count": 71,
     "metadata": {},
     "output_type": "execute_result"
    }
   ],
   "source": [
    "# Create a clean DataFrame by dropping the duplicate mouse by its ID.\n",
    "combinedf = combinedf.drop_duplicates()\n",
    "combinedf"
   ]
  },
  {
   "cell_type": "code",
   "execution_count": 72,
   "metadata": {
    "scrolled": false
   },
   "outputs": [
    {
     "data": {
      "text/plain": [
       "g989    12\n",
       "e213    10\n",
       "c757    10\n",
       "a818    10\n",
       "y769    10\n",
       "        ..\n",
       "x336     1\n",
       "b447     1\n",
       "d133     1\n",
       "n482     1\n",
       "o848     1\n",
       "Name: Mouse ID, Length: 249, dtype: int64"
      ]
     },
     "execution_count": 72,
     "metadata": {},
     "output_type": "execute_result"
    }
   ],
   "source": [
    "# Checking the number of mice in the clean DataFrame.\n",
    "count = combinedf[\"Mouse ID\"].value_counts()\n",
    "count"
   ]
  },
  {
   "cell_type": "markdown",
   "metadata": {},
   "source": [
    "## Summary Statistics"
   ]
  },
  {
   "cell_type": "code",
   "execution_count": 73,
   "metadata": {},
   "outputs": [
    {
     "data": {
      "text/html": [
       "<div>\n",
       "<style scoped>\n",
       "    .dataframe tbody tr th:only-of-type {\n",
       "        vertical-align: middle;\n",
       "    }\n",
       "\n",
       "    .dataframe tbody tr th {\n",
       "        vertical-align: top;\n",
       "    }\n",
       "\n",
       "    .dataframe thead th {\n",
       "        text-align: right;\n",
       "    }\n",
       "</style>\n",
       "<table border=\"1\" class=\"dataframe\">\n",
       "  <thead>\n",
       "    <tr style=\"text-align: right;\">\n",
       "      <th></th>\n",
       "      <th>Age_months</th>\n",
       "      <th>Weight (g)</th>\n",
       "      <th>Timepoint</th>\n",
       "      <th>Tumor Volume (mm3)</th>\n",
       "      <th>Metastatic Sites</th>\n",
       "    </tr>\n",
       "  </thead>\n",
       "  <tbody>\n",
       "    <tr>\n",
       "      <th>count</th>\n",
       "      <td>1892.000000</td>\n",
       "      <td>1892.000000</td>\n",
       "      <td>1892.000000</td>\n",
       "      <td>1892.000000</td>\n",
       "      <td>1892.000000</td>\n",
       "    </tr>\n",
       "    <tr>\n",
       "      <th>mean</th>\n",
       "      <td>12.810254</td>\n",
       "      <td>25.662262</td>\n",
       "      <td>19.582452</td>\n",
       "      <td>50.451260</td>\n",
       "      <td>1.022199</td>\n",
       "    </tr>\n",
       "    <tr>\n",
       "      <th>std</th>\n",
       "      <td>7.189027</td>\n",
       "      <td>3.922652</td>\n",
       "      <td>14.075984</td>\n",
       "      <td>8.896191</td>\n",
       "      <td>1.138032</td>\n",
       "    </tr>\n",
       "    <tr>\n",
       "      <th>min</th>\n",
       "      <td>1.000000</td>\n",
       "      <td>15.000000</td>\n",
       "      <td>0.000000</td>\n",
       "      <td>22.050126</td>\n",
       "      <td>0.000000</td>\n",
       "    </tr>\n",
       "    <tr>\n",
       "      <th>25%</th>\n",
       "      <td>7.000000</td>\n",
       "      <td>25.000000</td>\n",
       "      <td>5.000000</td>\n",
       "      <td>45.000000</td>\n",
       "      <td>0.000000</td>\n",
       "    </tr>\n",
       "    <tr>\n",
       "      <th>50%</th>\n",
       "      <td>13.000000</td>\n",
       "      <td>27.000000</td>\n",
       "      <td>20.000000</td>\n",
       "      <td>48.954697</td>\n",
       "      <td>1.000000</td>\n",
       "    </tr>\n",
       "    <tr>\n",
       "      <th>75%</th>\n",
       "      <td>20.000000</td>\n",
       "      <td>29.000000</td>\n",
       "      <td>30.000000</td>\n",
       "      <td>56.298917</td>\n",
       "      <td>2.000000</td>\n",
       "    </tr>\n",
       "    <tr>\n",
       "      <th>max</th>\n",
       "      <td>24.000000</td>\n",
       "      <td>30.000000</td>\n",
       "      <td>45.000000</td>\n",
       "      <td>78.567014</td>\n",
       "      <td>4.000000</td>\n",
       "    </tr>\n",
       "  </tbody>\n",
       "</table>\n",
       "</div>"
      ],
      "text/plain": [
       "        Age_months   Weight (g)    Timepoint  Tumor Volume (mm3)  \\\n",
       "count  1892.000000  1892.000000  1892.000000         1892.000000   \n",
       "mean     12.810254    25.662262    19.582452           50.451260   \n",
       "std       7.189027     3.922652    14.075984            8.896191   \n",
       "min       1.000000    15.000000     0.000000           22.050126   \n",
       "25%       7.000000    25.000000     5.000000           45.000000   \n",
       "50%      13.000000    27.000000    20.000000           48.954697   \n",
       "75%      20.000000    29.000000    30.000000           56.298917   \n",
       "max      24.000000    30.000000    45.000000           78.567014   \n",
       "\n",
       "       Metastatic Sites  \n",
       "count       1892.000000  \n",
       "mean           1.022199  \n",
       "std            1.138032  \n",
       "min            0.000000  \n",
       "25%            0.000000  \n",
       "50%            1.000000  \n",
       "75%            2.000000  \n",
       "max            4.000000  "
      ]
     },
     "execution_count": 73,
     "metadata": {},
     "output_type": "execute_result"
    }
   ],
   "source": [
    "# Generate a summary statistics table of mean, median, variance, standard deviation, and SEM of the tumor volume for each regimen\n",
    "combinedf.describe()\n",
    "\n",
    "\n",
    "\n",
    "\n",
    "\n",
    "\n",
    "\n",
    "# Use groupby and summary statistical methods to calculate the following properties of each drug regimen: \n",
    "# mean, median, variance, standard deviation, and SEM of the tumor volume. \n",
    "# Assemble the resulting series into a single summary dataframe.\n",
    "\n"
   ]
  },
  {
   "cell_type": "code",
   "execution_count": null,
   "metadata": {},
   "outputs": [],
   "source": []
  },
  {
   "cell_type": "code",
   "execution_count": null,
   "metadata": {
    "scrolled": true
   },
   "outputs": [],
   "source": [
    "# Use groupby and summary statistical methods to calculate the following properties of each drug regimen: \n",
    "# mean, median, variance, standard deviation, and SEM of the tumor volume. \n",
    "# Assemble the resulting series into a single summary dataframe.\n",
    "\n",
    "DrugRegimen = combinedf['Drug Regimen']\n",
    "\n",
    "\n",
    "DrugRegimengroups = combinedf.groupby('Drug Regimen')\n",
    "\n",
    "\n",
    "\n",
    "# # gender_trips = gender_groups['tripduration'].count()\n",
    "\n",
    "\n",
    "mean_numpy = np.mean(Drug_Regimen)\n",
    "print(f\"The mean Drug Regimen is  {mean_numpy}\")\n",
    "\n",
    "median_numpy = np.median(Drug_Regimen)\n",
    "print(f\"The median Drug Regimen is {median_numpy}\")\n",
    "\n",
    "mode_scipy = sts.mode(Drug_Regimen)\n",
    "print(f\"The mode Drug Regimen  is {mode_scipy}\")\n",
    "\n",
    "var_numpy = np.var(Drug_Regimen)\n",
    "print(f\"The population variance for the Drug Regimen is  {var_numpy}\")\n",
    "\n",
    "sd_numpy = np.std(Drug_Regimen)\n",
    "print(f\"The Drug Regimen standard deviation using the NumPy module is {sd_numpy}\")\n"
   ]
  },
  {
   "cell_type": "code",
   "execution_count": null,
   "metadata": {},
   "outputs": [],
   "source": [
    "# Generate a summary statistics table of mean, median, variance, standard deviation, and SEM of the tumor volume for each regimen\n",
    "\n",
    "# Using the aggregation method, produce the same summary statistics in a single line\n"
   ]
  },
  {
   "cell_type": "markdown",
   "metadata": {},
   "source": [
    "## Bar and Pie Charts"
   ]
  },
  {
   "cell_type": "code",
   "execution_count": 77,
   "metadata": {},
   "outputs": [
    {
     "data": {
      "image/png": "[encoded data removed]",
      "text/plain": [
       "<Figure size 432x288 with 1 Axes>"
      ]
     },
     "metadata": {
      "needs_background": "light"
     },
     "output_type": "display_data"
    },
    {
     "ename": "TypeError",
     "evalue": "Could not convert RamicaneRamicaneRamicaneRamicaneRamicaneRamicaneRamicaneRamicaneRamicaneRamicaneCapomulinCapomulinCapomulinCapomulinCapomulinCapomulinCapomulinCapomulinCapomulinCapomulinCapomulinCapomulinCapomulinCapomulinCapomulinCapomulinCapomulinCapomulinCapomulinCapomulinCapomulinCapomulinCapomulinCapomulinCapomulinCapomulinCapomulinCapomulinCapomulinCapomulinRamicaneRamicaneRamicaneRamicaneRamicaneRamicaneRamicaneRamicaneRamicaneRamicaneRamicaneRamicaneRamicaneRamicaneRamicaneRamicaneRamicaneRamicaneRamicaneRamicaneCapomulinCapomulinCapomulinCapomulinCapomulinRamicaneRamicaneRamicaneRamicaneRamicaneRamicaneRamicaneRamicaneRamicaneRamicaneRamicaneRamicaneRamicaneRamicaneRamicaneRamicaneRamicaneRamicaneRamicaneRamicaneRamicaneRamicaneRamicaneRamicaneRamicaneRamicaneRamicaneRamicaneRamicaneRamicaneCapomulinCapomulinCapomulinCapomulinCapomulinCapomulinCapomulinCapomulinCapomulinCapomulinRamicaneRamicaneRamicaneRamicaneRamicaneRamicaneRamicaneRamicaneRamicaneRamicaneCapomulinCapomulinCapomulinCapomulinCapomulinCapomulinCapomulinCapomulinCapomulinCapomulinCapomulinCapomulinCapomulinCapomulinCapomulinCapomulinCapomulinCapomulinCapomulinCapomulinCapomulinCapomulinCapomulinCapomulinCapomulinCapomulinCapomulinCapomulinCapomulinCapomulinRamicaneRamicaneRamicaneRamicaneRamicaneRamicaneRamicaneRamicaneRamicaneRamicaneCapomulinCapomulinCapomulinCapomulinCapomulinCapomulinCapomulinCapomulinCapomulinCapomulinRamicaneRamicaneRamicaneRamicaneRamicaneRamicaneRamicaneRamicaneRamicaneRamicaneRamicaneRamicaneRamicaneRamicaneRamicaneRamicaneRamicaneRamicaneRamicaneRamicaneRamicaneRamicaneRamicaneRamicaneRamicaneRamicaneRamicaneRamicaneRamicaneRamicaneCapomulinCapomulinCapomulinCapomulinCapomulinCapomulinCapomulinCapomulinCapomulinCapomulinRamicaneRamicaneRamicaneRamicaneRamicaneRamicaneRamicaneRamicaneRamicaneRamicaneCapomulinCapomulinCapomulinCapomulinCapomulinCapomulinCapomulinCapomulinCapomulinCapomulinRamicaneRamicaneRamicaneRamicaneRamicaneRamicaneRamicaneRamicaneRamicaneRamicaneCapomulinCapomulinCapomulinCapomulinCapomulinCapomulinCapomulinCapomulinCapomulinCapomulinRamicaneRamicaneRamicaneRamicaneRamicaneRamicaneRamicaneRamicaneRamicaneRamicaneRamicaneRamicaneRamicaneRamicaneRamicaneRamicaneRamicaneRamicaneRamicaneRamicaneRamicaneRamicaneRamicaneRamicaneRamicaneRamicaneRamicaneRamicaneCapomulinCapomulinCapomulinCapomulinCapomulinCapomulinCapomulinCapomulinCapomulinCapomulinRamicaneRamicaneRamicaneRamicaneRamicaneRamicaneRamicaneCapomulinCapomulinCapomulinCapomulinCapomulinCapomulinCapomulinCapomulinCapomulinCapomulinCapomulinCapomulinCapomulinCapomulinCapomulinCapomulinCapomulinCapomulinCapomulinCapomulinCapomulinCapomulinCapomulinCapomulinCapomulinCapomulinCapomulinCapomulinRamicaneRamicaneRamicaneRamicaneRamicaneRamicaneRamicaneRamicaneRamicaneRamicaneCapomulinCapomulinCapomulinCapomulinCapomulinCapomulinCapomulinCapomulinCapomulinCapomulinCapomulinCapomulinCapomulinCapomulinCapomulinCapomulinCapomulinCapomulinCapomulinCapomulinCapomulinCapomulinCapomulinCapomulinCapomulinCapomulinCapomulinCapomulinCapomulinCapomulinCapomulinCapomulinCapomulinCapomulinCapomulinCapomulinCapomulinCapomulinCapomulinCapomulinCapomulinCapomulinCapomulinCapomulinCapomulinCapomulinCapomulinCapomulinCapomulinCapomulinCapomulinCapomulinCapomulinCapomulinCapomulinCapomulinCapomulinCapomulinCapomulinCapomulinCapomulinCapomulinCapomulinRamicaneRamicaneRamicaneRamicaneRamicaneRamicaneRamicaneRamicaneRamicaneRamicaneRamicaneRamicaneRamicaneRamicaneRamicaneRamicaneRamicaneRamicaneRamicaneRamicaneRamicaneRamicaneRamicaneRamicaneRamicaneRamicaneRamicaneRamicaneRamicaneRamicaneRamicaneRamicaneRamicaneRamicaneRamicaneRamicaneRamicaneRamicaneRamicaneRamicaneCapomulinCapomulinCapomulinCapomulinCapomulinCapomulinCapomulinCapomulinCapomulinCapomulinRamicaneRamicaneRamicaneRamicaneRamicaneRamicaneRamicaneRamicaneRamicaneRamicaneRamicaneRamicaneRamicaneInfubinolInfubinolInfubinolInfubinolInfubinolInfubinolInfubinolInfubinolInfubinolInfubinolInfubinolInfubinolInfubinolInfubinolInfubinolInfubinolInfubinolInfubinolInfubinolInfubinolPlaceboPlaceboPlaceboPlaceboPlaceboPlaceboPlaceboPlaceboPlaceboPlaceboCeftaminCeftaminCeftaminCeftaminCeftaminCeftaminCeftaminCeftaminCeftaminCeftaminStelasynStelasynStelasynStelasynStelasynStelasynStelasynZoniferolZoniferolZoniferolZoniferolZoniferolZoniferolZoniferolZoniferolZoniferolZoniferolKetaprilKetaprilKetaprilStelasynStelasynStelasynStelasynStelasynStelasynStelasynStelasynStelasynStelasynInfubinolInfubinolInfubinolInfubinolInfubinolInfubinolInfubinolInfubinolInfubinolInfubinolInfubinolInfubinolInfubinolInfubinolInfubinolInfubinolInfubinolProprivaProprivaProprivaProprivaProprivaProprivaProprivaProprivaProprivaProprivaZoniferolZoniferolZoniferolZoniferolZoniferolZoniferolZoniferolNaftisolNaftisolNaftisolNaftisolNaftisolNaftisolNaftisolNaftisolNaftisolNaftisolPlaceboPlaceboPlaceboPlaceboPlaceboPlaceboPlaceboPlaceboPlaceboPlaceboStelasynStelasynStelasynStelasynStelasynStelasynStelasynStelasynStelasynStelasynZoniferolZoniferolZoniferolZoniferolZoniferolZoniferolCeftaminCeftaminCeftaminCeftaminCeftaminCeftaminCeftaminNaftisolNaftisolNaftisolNaftisolNaftisolNaftisolNaftisolNaftisolNaftisolNaftisolCeftaminCeftaminCeftaminCeftaminCeftaminCeftaminCeftaminStelasynStelasynStelasynStelasynStelasynStelasynStelasynStelasynStelasynStelasynInfubinolInfubinolInfubinolInfubinolInfubinolInfubinolInfubinolInfubinolInfubinolInfubinolZoniferolZoniferolZoniferolZoniferolZoniferolZoniferolZoniferolZoniferolZoniferolZoniferolPlaceboPlaceboPlaceboPlaceboPlaceboPlaceboPlaceboPlaceboPlaceboPlaceboZoniferolZoniferolZoniferolZoniferolZoniferolZoniferolZoniferolZoniferolZoniferolZoniferolInfubinolInfubinolStelasynStelasynStelasynStelasynStelasynStelasynStelasynStelasynStelasynStelasynZoniferolZoniferolZoniferolZoniferolZoniferolZoniferolZoniferolZoniferolZoniferolZoniferolKetaprilKetaprilKetaprilKetaprilKetaprilKetaprilKetaprilPlaceboPlaceboPlaceboPlaceboPlaceboPlaceboPlaceboPlaceboPlaceboPlaceboPlaceboPlaceboPlaceboPlaceboPlaceboPlaceboPlaceboPlaceboPlaceboPlaceboKetaprilKetaprilKetaprilKetaprilKetaprilKetaprilKetaprilKetaprilKetaprilKetaprilKetaprilKetaprilKetaprilKetaprilKetaprilKetaprilKetaprilKetaprilKetaprilInfubinolInfubinolInfubinolInfubinolInfubinolInfubinolInfubinolProprivaProprivaProprivaProprivaProprivaProprivaProprivaProprivaProprivaZoniferolZoniferolZoniferolZoniferolKetaprilKetaprilKetaprilKetaprilKetaprilKetaprilKetaprilKetaprilKetaprilNaftisolNaftisolNaftisolNaftisolNaftisolNaftisolNaftisolNaftisolNaftisolNaftisolPlaceboPlaceboPlaceboPlaceboPlaceboPlaceboPlaceboPlaceboPlaceboPlaceboNaftisolNaftisolNaftisolNaftisolNaftisolNaftisolInfubinolInfubinolInfubinolInfubinolInfubinolInfubinolInfubinolInfubinolInfubinolInfubinolNaftisolNaftisolNaftisolNaftisolNaftisolNaftisolNaftisolNaftisolNaftisolNaftisolZoniferolZoniferolZoniferolZoniferolStelasynStelasynStelasynStelasynStelasynStelasynStelasynStelasynKetaprilKetaprilInfubinolInfubinolInfubinolInfubinolInfubinolInfubinolInfubinolInfubinolInfubinolInfubinolZoniferolZoniferolCeftaminCeftaminCeftaminCeftaminZoniferolZoniferolZoniferolZoniferolZoniferolZoniferolZoniferolZoniferolZoniferolZoniferolKetaprilNaftisolNaftisolNaftisolNaftisolNaftisolKetaprilKetaprilKetaprilKetaprilKetaprilKetaprilKetaprilKetaprilZoniferolZoniferolZoniferolZoniferolZoniferolZoniferolZoniferolZoniferolZoniferolZoniferolKetaprilKetaprilKetaprilKetaprilKetaprilKetaprilKetaprilKetaprilKetaprilKetaprilProprivaProprivaProprivaProprivaProprivaProprivaProprivaProprivaProprivaProprivaProprivaProprivaProprivaProprivaProprivaProprivaProprivaProprivaProprivaStelasynStelasynStelasynStelasynProprivaProprivaProprivaProprivaProprivaProprivaProprivaProprivaProprivaProprivaProprivaProprivaKetaprilKetaprilKetaprilKetaprilKetaprilKetaprilKetaprilKetaprilKetaprilKetaprilStelasynStelasynStelasynStelasynStelasynStelasynStelasynKetaprilCeftaminCeftaminInfubinolInfubinolInfubinolInfubinolInfubinolInfubinolInfubinolInfubinolInfubinolPlaceboPlaceboPlaceboProprivaProprivaProprivaProprivaProprivaProprivaProprivaProprivaProprivaProprivaPlaceboPlaceboPlaceboPlaceboPlaceboPlaceboStelasynStelasynStelasynStelasynStelasynStelasynStelasynStelasynStelasynStelasynPlaceboPlaceboPlaceboPlaceboPlaceboCeftaminCeftaminCeftaminCeftaminCeftaminCeftaminCeftaminCeftaminCeftaminCeftaminZoniferolZoniferolZoniferolZoniferolZoniferolZoniferolZoniferolZoniferolZoniferolZoniferolNaftisolNaftisolNaftisolNaftisolNaftisolNaftisolNaftisolNaftisolNaftisolNaftisolStelasynStelasynStelasynStelasynStelasynStelasynStelasynStelasynStelasynStelasynCeftaminCeftaminCeftaminCeftaminCeftaminCeftaminCeftaminCeftaminCeftaminCeftaminKetaprilKetaprilKetaprilKetaprilKetaprilKetaprilKetaprilKetaprilKetaprilKetaprilInfubinolInfubinolInfubinolInfubinolInfubinolInfubinolInfubinolInfubinolInfubinolInfubinolStelasynStelasynStelasynStelasynStelasynProprivaProprivaProprivaProprivaProprivaZoniferolZoniferolZoniferolZoniferolZoniferolInfubinolInfubinolInfubinolInfubinolInfubinolInfubinolInfubinolInfubinolStelasynStelasynStelasynStelasynStelasynStelasynStelasynStelasynStelasynStelasynZoniferolZoniferolZoniferolZoniferolZoniferolZoniferolZoniferolZoniferolZoniferolZoniferolProprivaProprivaProprivaKetaprilKetaprilKetaprilCeftaminCeftaminCeftaminCeftaminCeftaminCeftaminCeftaminCeftaminCeftaminCeftaminCeftaminCeftaminCeftaminCeftaminCeftaminCeftaminCeftaminCeftaminCeftaminCeftaminCeftaminCeftaminCeftaminCeftaminCeftaminCeftaminCeftaminCeftaminCeftaminCeftaminNaftisolNaftisolNaftisolNaftisolNaftisolNaftisolNaftisolNaftisolNaftisolNaftisolNaftisolNaftisolNaftisolNaftisolNaftisolNaftisolNaftisolNaftisolNaftisolNaftisolCeftaminCeftaminCeftaminCeftaminCeftaminCeftaminCeftaminCeftaminCeftaminCeftaminPlaceboNaftisolNaftisolNaftisolNaftisolNaftisolNaftisolStelasynStelasynStelasynStelasynStelasynStelasynStelasynStelasynStelasynStelasynZoniferolZoniferolZoniferolZoniferolKetaprilKetaprilKetaprilKetaprilKetaprilKetaprilKetaprilKetaprilKetaprilKetaprilKetaprilKetaprilKetaprilKetaprilKetaprilKetaprilKetaprilKetaprilKetaprilKetaprilInfubinolInfubinolNaftisolNaftisolNaftisolNaftisolNaftisolNaftisolNaftisolNaftisolNaftisolNaftisolProprivaProprivaProprivaInfubinolInfubinolInfubinolInfubinolInfubinolInfubinolInfubinolProprivaProprivaProprivaPlaceboPlaceboPlaceboPlaceboPlaceboPlaceboPlaceboPlaceboPlaceboKetaprilKetaprilKetaprilKetaprilKetaprilKetaprilKetaprilKetaprilKetaprilZoniferolZoniferolZoniferolZoniferolCeftaminCeftaminCeftaminCeftaminCeftaminCeftaminCeftaminCeftaminCeftaminCeftaminPlaceboPlaceboPlaceboPlaceboPlaceboPlaceboPlaceboKetaprilKetaprilKetaprilKetaprilKetaprilKetaprilKetaprilKetaprilKetaprilKetaprilProprivaProprivaProprivaProprivaProprivaProprivaProprivaProprivaProprivaProprivaProprivaProprivaProprivaNaftisolNaftisolNaftisolNaftisolPlaceboPlaceboPlaceboPlaceboPlaceboPlaceboPlaceboPlaceboPlaceboPlaceboInfubinolInfubinolInfubinolInfubinolInfubinolInfubinolInfubinolInfubinolInfubinolInfubinolStelasynZoniferolZoniferolZoniferolZoniferolZoniferolZoniferolZoniferolZoniferolZoniferolZoniferolKetaprilKetaprilKetaprilKetaprilKetaprilKetaprilKetaprilKetaprilKetaprilZoniferolZoniferolZoniferolZoniferolZoniferolZoniferolZoniferolZoniferolZoniferolZoniferolKetaprilKetaprilKetaprilKetaprilKetaprilKetaprilKetaprilKetaprilKetaprilKetaprilProprivaProprivaProprivaProprivaProprivaProprivaStelasynStelasynStelasynStelasynStelasynStelasynStelasynStelasynStelasynCeftaminCeftaminCeftaminCeftaminCeftaminCeftaminCeftaminCeftaminCeftaminCeftaminStelasynStelasynStelasynStelasynStelasynStelasynStelasynStelasynKetaprilKetaprilKetaprilInfubinolInfubinolInfubinolInfubinolInfubinolInfubinolInfubinolCeftaminCeftaminCeftaminCeftaminCeftaminCeftaminCeftaminCeftaminCeftaminZoniferolZoniferolZoniferolZoniferolZoniferolZoniferolZoniferolZoniferolZoniferolZoniferolPlaceboPlaceboPlaceboPlaceboPlaceboPlaceboPlaceboPlaceboZoniferolZoniferolZoniferolZoniferolZoniferolZoniferolZoniferolZoniferolZoniferolZoniferolPlaceboPlaceboPlaceboPlaceboPlaceboPlaceboPlaceboPlaceboPlaceboPlaceboProprivaProprivaProprivaProprivaProprivaProprivaProprivaCapomulinCapomulinCapomulinCapomulinNaftisolNaftisolNaftisolNaftisolNaftisolNaftisolNaftisolNaftisolNaftisolNaftisolNaftisolNaftisolNaftisolNaftisolNaftisolNaftisolNaftisolNaftisolNaftisolNaftisolPlaceboPlaceboPlaceboPlaceboInfubinolInfubinolInfubinolInfubinolInfubinolInfubinolProprivaProprivaProprivaProprivaProprivaProprivaProprivaPlaceboPlaceboPlaceboPlaceboPlaceboPlaceboPlaceboPlaceboPlaceboProprivaProprivaProprivaProprivaProprivaProprivaProprivaZoniferolZoniferolZoniferolZoniferolZoniferolZoniferolZoniferolZoniferolZoniferolZoniferolStelasynStelasynStelasynStelasynStelasynStelasynStelasynStelasynStelasynStelasynStelasynStelasynProprivaProprivaProprivaProprivaProprivaProprivaProprivaProprivaProprivaProprivaStelasynStelasynStelasynStelasynStelasynStelasynStelasynStelasynStelasynStelasynCeftaminPlaceboPlaceboPlaceboPlaceboPlaceboPlaceboPlaceboPlaceboPlaceboPlaceboNaftisolNaftisolNaftisolNaftisolNaftisolNaftisolNaftisolNaftisolNaftisolNaftisolPlaceboPlaceboPlaceboPlaceboPlaceboCeftaminCeftaminCeftaminCeftaminCeftaminCeftaminCeftaminKetaprilKetaprilKetaprilKetaprilKetaprilKetaprilKetaprilKetaprilKetaprilKetaprilProprivaProprivaProprivaProprivaProprivaNaftisolKetaprilKetaprilKetaprilKetaprilKetaprilKetaprilNaftisolNaftisolNaftisolNaftisolNaftisolNaftisolNaftisolNaftisolNaftisolInfubinolInfubinolPlaceboPlaceboPlaceboKetaprilKetaprilKetaprilKetaprilKetaprilKetaprilKetaprilKetaprilInfubinolInfubinolInfubinolInfubinolInfubinolStelasynStelasynStelasynStelasynInfubinolInfubinolInfubinolInfubinolNaftisolNaftisolNaftisolNaftisolNaftisolPlaceboPlaceboPlaceboProprivaProprivaProprivaProprivaProprivaProprivaProprivaProprivaProprivaProprivaZoniferolZoniferolCeftaminCeftaminCeftaminCeftaminCeftaminCeftaminCeftaminCeftaminCeftaminCeftaminPlaceboPlaceboPlaceboPlaceboPlaceboPlaceboPlaceboPlaceboInfubinolInfubinolInfubinolInfubinolInfubinolProprivaProprivaProprivaProprivaProprivaProprivaProprivaProprivaProprivaProprivaKetaprilKetaprilKetaprilKetaprilKetaprilKetaprilKetaprilKetaprilKetaprilKetaprilStelasynStelasynStelasynStelasynStelasynStelasynZoniferolZoniferolZoniferolZoniferolZoniferolZoniferolZoniferolZoniferolZoniferolZoniferolInfubinolInfubinolInfubinolInfubinolInfubinolInfubinolInfubinolStelasynStelasynStelasynStelasynStelasynStelasynStelasynStelasynProprivaProprivaProprivaProprivaProprivaProprivaProprivaProprivaCeftaminNaftisolNaftisolNaftisolNaftisolNaftisolNaftisolNaftisolNaftisolNaftisolNaftisolStelasynStelasynStelasynStelasynStelasynStelasynStelasynStelasynStelasynStelasynCeftaminCeftaminCeftaminCeftaminCeftaminCeftaminCeftaminCeftaminCeftaminCeftaminZoniferolZoniferolZoniferolZoniferolPlaceboPlaceboPlaceboPlaceboPlaceboPlaceboPlaceboPlaceboPlaceboPlaceboCeftaminCeftaminCeftaminCeftaminCeftaminCeftaminCeftaminCeftaminCeftaminCeftaminNaftisolNaftisolNaftisolNaftisolNaftisolNaftisolInfubinolInfubinolInfubinolInfubinolInfubinolInfubinolInfubinolInfubinolInfubinolInfubinolKetaprilKetaprilKetaprilKetaprilKetaprilKetaprilKetaprilKetaprilKetaprilKetaprilPlaceboPlaceboPlaceboPlaceboPlaceboPlaceboPlaceboPlaceboPlaceboPlaceboNaftisolNaftisolCeftaminCeftaminCeftaminCeftaminCeftaminCeftaminCeftaminCeftaminCeftaminCeftaminCeftaminCeftaminCeftaminCeftaminCeftaminCeftaminCeftaminCeftaminCeftaminCeftaminNaftisolNaftisolStelasynStelasynProprivaProprivaProprivaInfubinolInfubinolInfubinolInfubinolInfubinolInfubinolInfubinolInfubinolInfubinolInfubinolNaftisolNaftisolNaftisolNaftisolNaftisolNaftisolNaftisolNaftisolNaftisolNaftisolNaftisolNaftisolNaftisolNaftisolNaftisolNaftisolNaftisolNaftisolNaftisolNaftisol to numeric",
     "output_type": "error",
     "traceback": [
      "\u001b[1;31m---------------------------------------------------------------------------\u001b[0m",
      "\u001b[1;31mValueError\u001b[0m                                Traceback (most recent call last)",
      "\u001b[1;32m~\\anaconda3\\lib\\site-packages\\pandas\\core\\nanops.py\u001b[0m in \u001b[0;36m_ensure_numeric\u001b[1;34m(x)\u001b[0m\n\u001b[0;32m   1302\u001b[0m         \u001b[1;32mtry\u001b[0m\u001b[1;33m:\u001b[0m\u001b[1;33m\u001b[0m\u001b[1;33m\u001b[0m\u001b[0m\n\u001b[1;32m-> 1303\u001b[1;33m             \u001b[0mx\u001b[0m \u001b[1;33m=\u001b[0m \u001b[0mfloat\u001b[0m\u001b[1;33m(\u001b[0m\u001b[0mx\u001b[0m\u001b[1;33m)\u001b[0m\u001b[1;33m\u001b[0m\u001b[1;33m\u001b[0m\u001b[0m\n\u001b[0m\u001b[0;32m   1304\u001b[0m         \u001b[1;32mexcept\u001b[0m \u001b[0mValueError\u001b[0m\u001b[1;33m:\u001b[0m\u001b[1;33m\u001b[0m\u001b[1;33m\u001b[0m\u001b[0m\n",
      "\u001b[1;31mValueError\u001b[0m: could not convert string to float: 'RamicaneRamicaneRamicaneRamicaneRamicaneRamicaneRamicaneRamicaneRamicaneRamicaneCapomulinCapomulinCapomulinCapomulinCapomulinCapomulinCapomulinCapomulinCapomulinCapomulinCapomulinCapomulinCapomulinCapomulinCapomulinCapomulinCapomulinCapomulinCapomulinCapomulinCapomulinCapomulinCapomulinCapomulinCapomulinCapomulinCapomulinCapomulinCapomulinCapomulinRamicaneRamicaneRamicaneRamicaneRamicaneRamicaneRamicaneRamicaneRamicaneRamicaneRamicaneRamicaneRamicaneRamicaneRamicaneRamicaneRamicaneRamicaneRamicaneRamicaneCapomulinCapomulinCapomulinCapomulinCapomulinRamicaneRamicaneRamicaneRamicaneRamicaneRamicaneRamicaneRamicaneRamicaneRamicaneRamicaneRamicaneRamicaneRamicaneRamicaneRamicaneRamicaneRamicaneRamicaneRamicaneRamicaneRamicaneRamicaneRamicaneRamicaneRamicaneRamicaneRamicaneRamicaneRamicaneCapomulinCapomulinCapomulinCapomulinCapomulinCapomulinCapomulinCapomulinCapomulinCapomulinRamicaneRamicaneRamicaneRamicaneRamicaneRamicaneRamicaneRamicaneRamicaneRamicaneCapomulinCapomulinCapomulinCapomulinCapomulinCapomulinCapomulinCapomulinCapomulinCapomulinCapomulinCapomulinCapomulinCapomulinCapomulinCapomulinCapomulinCapomulinCapomulinCapomulinCapomulinCapomulinCapomulinCapomulinCapomulinCapomulinCapomulinCapomulinCapomulinCapomulinRamicaneRamicaneRamicaneRamicaneRamicaneRamicaneRamicaneRamicaneRamicaneRamicaneCapomulinCapomulinCapomulinCapomulinCapomulinCapomulinCapomulinCapomulinCapomulinCapomulinRamicaneRamicaneRamicaneRamicaneRamicaneRamicaneRamicaneRamicaneRamicaneRamicaneRamicaneRamicaneRamicaneRamicaneRamicaneRamicaneRamicaneRamicaneRamicaneRamicaneRamicaneRamicaneRamicaneRamicaneRamicaneRamicaneRamicaneRamicaneRamicaneRamicaneCapomulinCapomulinCapomulinCapomulinCapomulinCapomulinCapomulinCapomulinCapomulinCapomulinRamicaneRamicaneRamicaneRamicaneRamicaneRamicaneRamicaneRamicaneRamicaneRamicaneCapomulinCapomulinCapomulinCapomulinCapomulinCapomulinCapomulinCapomulinCapomulinCapomulinRamicaneRamicaneRamicaneRamicaneRamicaneRamicaneRamicaneRamicaneRamicaneRamicaneCapomulinCapomulinCapomulinCapomulinCapomulinCapomulinCapomulinCapomulinCapomulinCapomulinRamicaneRamicaneRamicaneRamicaneRamicaneRamicaneRamicaneRamicaneRamicaneRamicaneRamicaneRamicaneRamicaneRamicaneRamicaneRamicaneRamicaneRamicaneRamicaneRamicaneRamicaneRamicaneRamicaneRamicaneRamicaneRamicaneRamicaneRamicaneCapomulinCapomulinCapomulinCapomulinCapomulinCapomulinCapomulinCapomulinCapomulinCapomulinRamicaneRamicaneRamicaneRamicaneRamicaneRamicaneRamicaneCapomulinCapomulinCapomulinCapomulinCapomulinCapomulinCapomulinCapomulinCapomulinCapomulinCapomulinCapomulinCapomulinCapomulinCapomulinCapomulinCapomulinCapomulinCapomulinCapomulinCapomulinCapomulinCapomulinCapomulinCapomulinCapomulinCapomulinCapomulinRamicaneRamicaneRamicaneRamicaneRamicaneRamicaneRamicaneRamicaneRamicaneRamicaneCapomulinCapomulinCapomulinCapomulinCapomulinCapomulinCapomulinCapomulinCapomulinCapomulinCapomulinCapomulinCapomulinCapomulinCapomulinCapomulinCapomulinCapomulinCapomulinCapomulinCapomulinCapomulinCapomulinCapomulinCapomulinCapomulinCapomulinCapomulinCapomulinCapomulinCapomulinCapomulinCapomulinCapomulinCapomulinCapomulinCapomulinCapomulinCapomulinCapomulinCapomulinCapomulinCapomulinCapomulinCapomulinCapomulinCapomulinCapomulinCapomulinCapomulinCapomulinCapomulinCapomulinCapomulinCapomulinCapomulinCapomulinCapomulinCapomulinCapomulinCapomulinCapomulinCapomulinRamicaneRamicaneRamicaneRamicaneRamicaneRamicaneRamicaneRamicaneRamicaneRamicaneRamicaneRamicaneRamicaneRamicaneRamicaneRamicaneRamicaneRamicaneRamicaneRamicaneRamicaneRamicaneRamicaneRamicaneRamicaneRamicaneRamicaneRamicaneRamicaneRamicaneRamicaneRamicaneRamicaneRamicaneRamicaneRamicaneRamicaneRamicaneRamicaneRamicaneCapomulinCapomulinCapomulinCapomulinCapomulinCapomulinCapomulinCapomulinCapomulinCapomulinRamicaneRamicaneRamicaneRamicaneRamicaneRamicaneRamicaneRamicaneRamicaneRamicaneRamicaneRamicaneRamicaneInfubinolInfubinolInfubinolInfubinolInfubinolInfubinolInfubinolInfubinolInfubinolInfubinolInfubinolInfubinolInfubinolInfubinolInfubinolInfubinolInfubinolInfubinolInfubinolInfubinolPlaceboPlaceboPlaceboPlaceboPlaceboPlaceboPlaceboPlaceboPlaceboPlaceboCeftaminCeftaminCeftaminCeftaminCeftaminCeftaminCeftaminCeftaminCeftaminCeftaminStelasynStelasynStelasynStelasynStelasynStelasynStelasynZoniferolZoniferolZoniferolZoniferolZoniferolZoniferolZoniferolZoniferolZoniferolZoniferolKetaprilKetaprilKetaprilStelasynStelasynStelasynStelasynStelasynStelasynStelasynStelasynStelasynStelasynInfubinolInfubinolInfubinolInfubinolInfubinolInfubinolInfubinolInfubinolInfubinolInfubinolInfubinolInfubinolInfubinolInfubinolInfubinolInfubinolInfubinolProprivaProprivaProprivaProprivaProprivaProprivaProprivaProprivaProprivaProprivaZoniferolZoniferolZoniferolZoniferolZoniferolZoniferolZoniferolNaftisolNaftisolNaftisolNaftisolNaftisolNaftisolNaftisolNaftisolNaftisolNaftisolPlaceboPlaceboPlaceboPlaceboPlaceboPlaceboPlaceboPlaceboPlaceboPlaceboStelasynStelasynStelasynStelasynStelasynStelasynStelasynStelasynStelasynStelasynZoniferolZoniferolZoniferolZoniferolZoniferolZoniferolCeftaminCeftaminCeftaminCeftaminCeftaminCeftaminCeftaminNaftisolNaftisolNaftisolNaftisolNaftisolNaftisolNaftisolNaftisolNaftisolNaftisolCeftaminCeftaminCeftaminCeftaminCeftaminCeftaminCeftaminStelasynStelasynStelasynStelasynStelasynStelasynStelasynStelasynStelasynStelasynInfubinolInfubinolInfubinolInfubinolInfubinolInfubinolInfubinolInfubinolInfubinolInfubinolZoniferolZoniferolZoniferolZoniferolZoniferolZoniferolZoniferolZoniferolZoniferolZoniferolPlaceboPlaceboPlaceboPlaceboPlaceboPlaceboPlaceboPlaceboPlaceboPlaceboZoniferolZoniferolZoniferolZoniferolZoniferolZoniferolZoniferolZoniferolZoniferolZoniferolInfubinolInfubinolStelasynStelasynStelasynStelasynStelasynStelasynStelasynStelasynStelasynStelasynZoniferolZoniferolZoniferolZoniferolZoniferolZoniferolZoniferolZoniferolZoniferolZoniferolKetaprilKetaprilKetaprilKetaprilKetaprilKetaprilKetaprilPlaceboPlaceboPlaceboPlaceboPlaceboPlaceboPlaceboPlaceboPlaceboPlaceboPlaceboPlaceboPlaceboPlaceboPlaceboPlaceboPlaceboPlaceboPlaceboPlaceboKetaprilKetaprilKetaprilKetaprilKetaprilKetaprilKetaprilKetaprilKetaprilKetaprilKetaprilKetaprilKetaprilKetaprilKetaprilKetaprilKetaprilKetaprilKetaprilInfubinolInfubinolInfubinolInfubinolInfubinolInfubinolInfubinolProprivaProprivaProprivaProprivaProprivaProprivaProprivaProprivaProprivaZoniferolZoniferolZoniferolZoniferolKetaprilKetaprilKetaprilKetaprilKetaprilKetaprilKetaprilKetaprilKetaprilNaftisolNaftisolNaftisolNaftisolNaftisolNaftisolNaftisolNaftisolNaftisolNaftisolPlaceboPlaceboPlaceboPlaceboPlaceboPlaceboPlaceboPlaceboPlaceboPlaceboNaftisolNaftisolNaftisolNaftisolNaftisolNaftisolInfubinolInfubinolInfubinolInfubinolInfubinolInfubinolInfubinolInfubinolInfubinolInfubinolNaftisolNaftisolNaftisolNaftisolNaftisolNaftisolNaftisolNaftisolNaftisolNaftisolZoniferolZoniferolZoniferolZoniferolStelasynStelasynStelasynStelasynStelasynStelasynStelasynStelasynKetaprilKetaprilInfubinolInfubinolInfubinolInfubinolInfubinolInfubinolInfubinolInfubinolInfubinolInfubinolZoniferolZoniferolCeftaminCeftaminCeftaminCeftaminZoniferolZoniferolZoniferolZoniferolZoniferolZoniferolZoniferolZoniferolZoniferolZoniferolKetaprilNaftisolNaftisolNaftisolNaftisolNaftisolKetaprilKetaprilKetaprilKetaprilKetaprilKetaprilKetaprilKetaprilZoniferolZoniferolZoniferolZoniferolZoniferolZoniferolZoniferolZoniferolZoniferolZoniferolKetaprilKetaprilKetaprilKetaprilKetaprilKetaprilKetaprilKetaprilKetaprilKetaprilProprivaProprivaProprivaProprivaProprivaProprivaProprivaProprivaProprivaProprivaProprivaProprivaProprivaProprivaProprivaProprivaProprivaProprivaProprivaStelasynStelasynStelasynStelasynProprivaProprivaProprivaProprivaProprivaProprivaProprivaProprivaProprivaProprivaProprivaProprivaKetaprilKetaprilKetaprilKetaprilKetaprilKetaprilKetaprilKetaprilKetaprilKetaprilStelasynStelasynStelasynStelasynStelasynStelasynStelasynKetaprilCeftaminCeftaminInfubinolInfubinolInfubinolInfubinolInfubinolInfubinolInfubinolInfubinolInfubinolPlaceboPlaceboPlaceboProprivaProprivaProprivaProprivaProprivaProprivaProprivaProprivaProprivaProprivaPlaceboPlaceboPlaceboPlaceboPlaceboPlaceboStelasynStelasynStelasynStelasynStelasynStelasynStelasynStelasynStelasynStelasynPlaceboPlaceboPlaceboPlaceboPlaceboCeftaminCeftaminCeftaminCeftaminCeftaminCeftaminCeftaminCeftaminCeftaminCeftaminZoniferolZoniferolZoniferolZoniferolZoniferolZoniferolZoniferolZoniferolZoniferolZoniferolNaftisolNaftisolNaftisolNaftisolNaftisolNaftisolNaftisolNaftisolNaftisolNaftisolStelasynStelasynStelasynStelasynStelasynStelasynStelasynStelasynStelasynStelasynCeftaminCeftaminCeftaminCeftaminCeftaminCeftaminCeftaminCeftaminCeftaminCeftaminKetaprilKetaprilKetaprilKetaprilKetaprilKetaprilKetaprilKetaprilKetaprilKetaprilInfubinolInfubinolInfubinolInfubinolInfubinolInfubinolInfubinolInfubinolInfubinolInfubinolStelasynStelasynStelasynStelasynStelasynProprivaProprivaProprivaProprivaProprivaZoniferolZoniferolZoniferolZoniferolZoniferolInfubinolInfubinolInfubinolInfubinolInfubinolInfubinolInfubinolInfubinolStelasynStelasynStelasynStelasynStelasynStelasynStelasynStelasynStelasynStelasynZoniferolZoniferolZoniferolZoniferolZoniferolZoniferolZoniferolZoniferolZoniferolZoniferolProprivaProprivaProprivaKetaprilKetaprilKetaprilCeftaminCeftaminCeftaminCeftaminCeftaminCeftaminCeftaminCeftaminCeftaminCeftaminCeftaminCeftaminCeftaminCeftaminCeftaminCeftaminCeftaminCeftaminCeftaminCeftaminCeftaminCeftaminCeftaminCeftaminCeftaminCeftaminCeftaminCeftaminCeftaminCeftaminNaftisolNaftisolNaftisolNaftisolNaftisolNaftisolNaftisolNaftisolNaftisolNaftisolNaftisolNaftisolNaftisolNaftisolNaftisolNaftisolNaftisolNaftisolNaftisolNaftisolCeftaminCeftaminCeftaminCeftaminCeftaminCeftaminCeftaminCeftaminCeftaminCeftaminPlaceboNaftisolNaftisolNaftisolNaftisolNaftisolNaftisolStelasynStelasynStelasynStelasynStelasynStelasynStelasynStelasynStelasynStelasynZoniferolZoniferolZoniferolZoniferolKetaprilKetaprilKetaprilKetaprilKetaprilKetaprilKetaprilKetaprilKetaprilKetaprilKetaprilKetaprilKetaprilKetaprilKetaprilKetaprilKetaprilKetaprilKetaprilKetaprilInfubinolInfubinolNaftisolNaftisolNaftisolNaftisolNaftisolNaftisolNaftisolNaftisolNaftisolNaftisolProprivaProprivaProprivaInfubinolInfubinolInfubinolInfubinolInfubinolInfubinolInfubinolProprivaProprivaProprivaPlaceboPlaceboPlaceboPlaceboPlaceboPlaceboPlaceboPlaceboPlaceboKetaprilKetaprilKetaprilKetaprilKetaprilKetaprilKetaprilKetaprilKetaprilZoniferolZoniferolZoniferolZoniferolCeftaminCeftaminCeftaminCeftaminCeftaminCeftaminCeftaminCeftaminCeftaminCeftaminPlaceboPlaceboPlaceboPlaceboPlaceboPlaceboPlaceboKetaprilKetaprilKetaprilKetaprilKetaprilKetaprilKetaprilKetaprilKetaprilKetaprilProprivaProprivaProprivaProprivaProprivaProprivaProprivaProprivaProprivaProprivaProprivaProprivaProprivaNaftisolNaftisolNaftisolNaftisolPlaceboPlaceboPlaceboPlaceboPlaceboPlaceboPlaceboPlaceboPlaceboPlaceboInfubinolInfubinolInfubinolInfubinolInfubinolInfubinolInfubinolInfubinolInfubinolInfubinolStelasynZoniferolZoniferolZoniferolZoniferolZoniferolZoniferolZoniferolZoniferolZoniferolZoniferolKetaprilKetaprilKetaprilKetaprilKetaprilKetaprilKetaprilKetaprilKetaprilZoniferolZoniferolZoniferolZoniferolZoniferolZoniferolZoniferolZoniferolZoniferolZoniferolKetaprilKetaprilKetaprilKetaprilKetaprilKetaprilKetaprilKetaprilKetaprilKetaprilProprivaProprivaProprivaProprivaProprivaProprivaStelasynStelasynStelasynStelasynStelasynStelasynStelasynStelasynStelasynCeftaminCeftaminCeftaminCeftaminCeftaminCeftaminCeftaminCeftaminCeftaminCeftaminStelasynStelasynStelasynStelasynStelasynStelasynStelasynStelasynKetaprilKetaprilKetaprilInfubinolInfubinolInfubinolInfubinolInfubinolInfubinolInfubinolCeftaminCeftaminCeftaminCeftaminCeftaminCeftaminCeftaminCeftaminCeftaminZoniferolZoniferolZoniferolZoniferolZoniferolZoniferolZoniferolZoniferolZoniferolZoniferolPlaceboPlaceboPlaceboPlaceboPlaceboPlaceboPlaceboPlaceboZoniferolZoniferolZoniferolZoniferolZoniferolZoniferolZoniferolZoniferolZoniferolZoniferolPlaceboPlaceboPlaceboPlaceboPlaceboPlaceboPlaceboPlaceboPlaceboPlaceboProprivaProprivaProprivaProprivaProprivaProprivaProprivaCapomulinCapomulinCapomulinCapomulinNaftisolNaftisolNaftisolNaftisolNaftisolNaftisolNaftisolNaftisolNaftisolNaftisolNaftisolNaftisolNaftisolNaftisolNaftisolNaftisolNaftisolNaftisolNaftisolNaftisolPlaceboPlaceboPlaceboPlaceboInfubinolInfubinolInfubinolInfubinolInfubinolInfubinolProprivaProprivaProprivaProprivaProprivaProprivaProprivaPlaceboPlaceboPlaceboPlaceboPlaceboPlaceboPlaceboPlaceboPlaceboProprivaProprivaProprivaProprivaProprivaProprivaProprivaZoniferolZoniferolZoniferolZoniferolZoniferolZoniferolZoniferolZoniferolZoniferolZoniferolStelasynStelasynStelasynStelasynStelasynStelasynStelasynStelasynStelasynStelasynStelasynStelasynProprivaProprivaProprivaProprivaProprivaProprivaProprivaProprivaProprivaProprivaStelasynStelasynStelasynStelasynStelasynStelasynStelasynStelasynStelasynStelasynCeftaminPlaceboPlaceboPlaceboPlaceboPlaceboPlaceboPlaceboPlaceboPlaceboPlaceboNaftisolNaftisolNaftisolNaftisolNaftisolNaftisolNaftisolNaftisolNaftisolNaftisolPlaceboPlaceboPlaceboPlaceboPlaceboCeftaminCeftaminCeftaminCeftaminCeftaminCeftaminCeftaminKetaprilKetaprilKetaprilKetaprilKetaprilKetaprilKetaprilKetaprilKetaprilKetaprilProprivaProprivaProprivaProprivaProprivaNaftisolKetaprilKetaprilKetaprilKetaprilKetaprilKetaprilNaftisolNaftisolNaftisolNaftisolNaftisolNaftisolNaftisolNaftisolNaftisolInfubinolInfubinolPlaceboPlaceboPlaceboKetaprilKetaprilKetaprilKetaprilKetaprilKetaprilKetaprilKetaprilInfubinolInfubinolInfubinolInfubinolInfubinolStelasynStelasynStelasynStelasynInfubinolInfubinolInfubinolInfubinolNaftisolNaftisolNaftisolNaftisolNaftisolPlaceboPlaceboPlaceboProprivaProprivaProprivaProprivaProprivaProprivaProprivaProprivaProprivaProprivaZoniferolZoniferolCeftaminCeftaminCeftaminCeftaminCeftaminCeftaminCeftaminCeftaminCeftaminCeftaminPlaceboPlaceboPlaceboPlaceboPlaceboPlaceboPlaceboPlaceboInfubinolInfubinolInfubinolInfubinolInfubinolProprivaProprivaProprivaProprivaProprivaProprivaProprivaProprivaProprivaProprivaKetaprilKetaprilKetaprilKetaprilKetaprilKetaprilKetaprilKetaprilKetaprilKetaprilStelasynStelasynStelasynStelasynStelasynStelasynZoniferolZoniferolZoniferolZoniferolZoniferolZoniferolZoniferolZoniferolZoniferolZoniferolInfubinolInfubinolInfubinolInfubinolInfubinolInfubinolInfubinolStelasynStelasynStelasynStelasynStelasynStelasynStelasynStelasynProprivaProprivaProprivaProprivaProprivaProprivaProprivaProprivaCeftaminNaftisolNaftisolNaftisolNaftisolNaftisolNaftisolNaftisolNaftisolNaftisolNaftisolStelasynStelasynStelasynStelasynStelasynStelasynStelasynStelasynStelasynStelasynCeftaminCeftaminCeftaminCeftaminCeftaminCeftaminCeftaminCeftaminCeftaminCeftaminZoniferolZoniferolZoniferolZoniferolPlaceboPlaceboPlaceboPlaceboPlaceboPlaceboPlaceboPlaceboPlaceboPlaceboCeftaminCeftaminCeftaminCeftaminCeftaminCeftaminCeftaminCeftaminCeftaminCeftaminNaftisolNaftisolNaftisolNaftisolNaftisolNaftisolInfubinolInfubinolInfubinolInfubinolInfubinolInfubinolInfubinolInfubinolInfubinolInfubinolKetaprilKetaprilKetaprilKetaprilKetaprilKetaprilKetaprilKetaprilKetaprilKetaprilPlaceboPlaceboPlaceboPlaceboPlaceboPlaceboPlaceboPlaceboPlaceboPlaceboNaftisolNaftisolCeftaminCeftaminCeftaminCeftaminCeftaminCeftaminCeftaminCeftaminCeftaminCeftaminCeftaminCeftaminCeftaminCeftaminCeftaminCeftaminCeftaminCeftaminCeftaminCeftaminNaftisolNaftisolStelasynStelasynProprivaProprivaProprivaInfubinolInfubinolInfubinolInfubinolInfubinolInfubinolInfubinolInfubinolInfubinolInfubinolNaftisolNaftisolNaftisolNaftisolNaftisolNaftisolNaftisolNaftisolNaftisolNaftisolNaftisolNaftisolNaftisolNaftisolNaftisolNaftisolNaftisolNaftisolNaftisolNaftisol'",
      "\nDuring handling of the above exception, another exception occurred:\n",
      "\u001b[1;31mValueError\u001b[0m                                Traceback (most recent call last)",
      "\u001b[1;32m~\\anaconda3\\lib\\site-packages\\pandas\\core\\nanops.py\u001b[0m in \u001b[0;36m_ensure_numeric\u001b[1;34m(x)\u001b[0m\n\u001b[0;32m   1306\u001b[0m             \u001b[1;32mtry\u001b[0m\u001b[1;33m:\u001b[0m\u001b[1;33m\u001b[0m\u001b[1;33m\u001b[0m\u001b[0m\n\u001b[1;32m-> 1307\u001b[1;33m                 \u001b[0mx\u001b[0m \u001b[1;33m=\u001b[0m \u001b[0mcomplex\u001b[0m\u001b[1;33m(\u001b[0m\u001b[0mx\u001b[0m\u001b[1;33m)\u001b[0m\u001b[1;33m\u001b[0m\u001b[1;33m\u001b[0m\u001b[0m\n\u001b[0m\u001b[0;32m   1308\u001b[0m             \u001b[1;32mexcept\u001b[0m \u001b[0mValueError\u001b[0m\u001b[1;33m:\u001b[0m\u001b[1;33m\u001b[0m\u001b[1;33m\u001b[0m\u001b[0m\n",
      "\u001b[1;31mValueError\u001b[0m: complex() arg is a malformed string",
      "\nDuring handling of the above exception, another exception occurred:\n",
      "\u001b[1;31mTypeError\u001b[0m                                 Traceback (most recent call last)",
      "\u001b[1;32m<ipython-input-77-3c03dd8c4389>\u001b[0m in \u001b[0;36m<module>\u001b[1;34m\u001b[0m\n\u001b[0;32m      6\u001b[0m \u001b[0mplt\u001b[0m\u001b[1;33m.\u001b[0m\u001b[0mylabel\u001b[0m\u001b[1;33m(\u001b[0m\u001b[1;34m'Total'\u001b[0m\u001b[1;33m)\u001b[0m\u001b[1;33m\u001b[0m\u001b[1;33m\u001b[0m\u001b[0m\n\u001b[0;32m      7\u001b[0m \u001b[0mplt\u001b[0m\u001b[1;33m.\u001b[0m\u001b[0mshow\u001b[0m\u001b[1;33m(\u001b[0m\u001b[1;33m)\u001b[0m\u001b[1;33m\u001b[0m\u001b[1;33m\u001b[0m\u001b[0m\n\u001b[1;32m----> 8\u001b[1;33m \u001b[0mprint\u001b[0m\u001b[1;33m(\u001b[0m\u001b[0munique_mice\u001b[0m\u001b[1;33m[\u001b[0m\u001b[1;34m'Drug Regimen'\u001b[0m\u001b[1;33m]\u001b[0m\u001b[1;33m.\u001b[0m\u001b[0mmean\u001b[0m\u001b[1;33m(\u001b[0m\u001b[1;33m)\u001b[0m\u001b[1;33m)\u001b[0m\u001b[1;33m\u001b[0m\u001b[1;33m\u001b[0m\u001b[0m\n\u001b[0m\u001b[0;32m      9\u001b[0m \u001b[0mprint\u001b[0m\u001b[1;33m(\u001b[0m\u001b[0munique_mice\u001b[0m\u001b[1;33m[\u001b[0m\u001b[1;34m'Drug Regimen'\u001b[0m\u001b[1;33m]\u001b[0m\u001b[1;33m.\u001b[0m\u001b[0mmedian\u001b[0m\u001b[1;33m(\u001b[0m\u001b[1;33m)\u001b[0m\u001b[1;33m)\u001b[0m\u001b[1;33m\u001b[0m\u001b[1;33m\u001b[0m\u001b[0m\n\u001b[0;32m     10\u001b[0m \u001b[0mprint\u001b[0m\u001b[1;33m(\u001b[0m\u001b[0munique_mice\u001b[0m\u001b[1;33m[\u001b[0m\u001b[1;34m'Drug Regimen'\u001b[0m\u001b[1;33m]\u001b[0m\u001b[1;33m.\u001b[0m\u001b[0mmode\u001b[0m\u001b[1;33m(\u001b[0m\u001b[1;33m)\u001b[0m\u001b[1;33m)\u001b[0m\u001b[1;33m\u001b[0m\u001b[1;33m\u001b[0m\u001b[0m\n",
      "\u001b[1;32m~\\anaconda3\\lib\\site-packages\\pandas\\core\\generic.py\u001b[0m in \u001b[0;36mstat_func\u001b[1;34m(self, axis, skipna, level, numeric_only, **kwargs)\u001b[0m\n\u001b[0;32m  11212\u001b[0m         \u001b[1;32mif\u001b[0m \u001b[0mlevel\u001b[0m \u001b[1;32mis\u001b[0m \u001b[1;32mnot\u001b[0m \u001b[1;32mNone\u001b[0m\u001b[1;33m:\u001b[0m\u001b[1;33m\u001b[0m\u001b[1;33m\u001b[0m\u001b[0m\n\u001b[0;32m  11213\u001b[0m             \u001b[1;32mreturn\u001b[0m \u001b[0mself\u001b[0m\u001b[1;33m.\u001b[0m\u001b[0m_agg_by_level\u001b[0m\u001b[1;33m(\u001b[0m\u001b[0mname\u001b[0m\u001b[1;33m,\u001b[0m \u001b[0maxis\u001b[0m\u001b[1;33m=\u001b[0m\u001b[0maxis\u001b[0m\u001b[1;33m,\u001b[0m \u001b[0mlevel\u001b[0m\u001b[1;33m=\u001b[0m\u001b[0mlevel\u001b[0m\u001b[1;33m,\u001b[0m \u001b[0mskipna\u001b[0m\u001b[1;33m=\u001b[0m\u001b[0mskipna\u001b[0m\u001b[1;33m)\u001b[0m\u001b[1;33m\u001b[0m\u001b[1;33m\u001b[0m\u001b[0m\n\u001b[1;32m> 11214\u001b[1;33m         return self._reduce(\n\u001b[0m\u001b[0;32m  11215\u001b[0m             \u001b[0mf\u001b[0m\u001b[1;33m,\u001b[0m \u001b[0mname\u001b[0m\u001b[1;33m,\u001b[0m \u001b[0maxis\u001b[0m\u001b[1;33m=\u001b[0m\u001b[0maxis\u001b[0m\u001b[1;33m,\u001b[0m \u001b[0mskipna\u001b[0m\u001b[1;33m=\u001b[0m\u001b[0mskipna\u001b[0m\u001b[1;33m,\u001b[0m \u001b[0mnumeric_only\u001b[0m\u001b[1;33m=\u001b[0m\u001b[0mnumeric_only\u001b[0m\u001b[1;33m\u001b[0m\u001b[1;33m\u001b[0m\u001b[0m\n\u001b[0;32m  11216\u001b[0m         )\n",
      "\u001b[1;32m~\\anaconda3\\lib\\site-packages\\pandas\\core\\series.py\u001b[0m in \u001b[0;36m_reduce\u001b[1;34m(self, op, name, axis, skipna, numeric_only, filter_type, **kwds)\u001b[0m\n\u001b[0;32m   3889\u001b[0m                 )\n\u001b[0;32m   3890\u001b[0m             \u001b[1;32mwith\u001b[0m \u001b[0mnp\u001b[0m\u001b[1;33m.\u001b[0m\u001b[0merrstate\u001b[0m\u001b[1;33m(\u001b[0m\u001b[0mall\u001b[0m\u001b[1;33m=\u001b[0m\u001b[1;34m\"ignore\"\u001b[0m\u001b[1;33m)\u001b[0m\u001b[1;33m:\u001b[0m\u001b[1;33m\u001b[0m\u001b[1;33m\u001b[0m\u001b[0m\n\u001b[1;32m-> 3891\u001b[1;33m                 \u001b[1;32mreturn\u001b[0m \u001b[0mop\u001b[0m\u001b[1;33m(\u001b[0m\u001b[0mdelegate\u001b[0m\u001b[1;33m,\u001b[0m \u001b[0mskipna\u001b[0m\u001b[1;33m=\u001b[0m\u001b[0mskipna\u001b[0m\u001b[1;33m,\u001b[0m \u001b[1;33m**\u001b[0m\u001b[0mkwds\u001b[0m\u001b[1;33m)\u001b[0m\u001b[1;33m\u001b[0m\u001b[1;33m\u001b[0m\u001b[0m\n\u001b[0m\u001b[0;32m   3892\u001b[0m \u001b[1;33m\u001b[0m\u001b[0m\n\u001b[0;32m   3893\u001b[0m         \u001b[1;31m# TODO(EA) dispatch to Index\u001b[0m\u001b[1;33m\u001b[0m\u001b[1;33m\u001b[0m\u001b[1;33m\u001b[0m\u001b[0m\n",
      "\u001b[1;32m~\\anaconda3\\lib\\site-packages\\pandas\\core\\nanops.py\u001b[0m in \u001b[0;36m_f\u001b[1;34m(*args, **kwargs)\u001b[0m\n\u001b[0;32m     67\u001b[0m             \u001b[1;32mtry\u001b[0m\u001b[1;33m:\u001b[0m\u001b[1;33m\u001b[0m\u001b[1;33m\u001b[0m\u001b[0m\n\u001b[0;32m     68\u001b[0m                 \u001b[1;32mwith\u001b[0m \u001b[0mnp\u001b[0m\u001b[1;33m.\u001b[0m\u001b[0merrstate\u001b[0m\u001b[1;33m(\u001b[0m\u001b[0minvalid\u001b[0m\u001b[1;33m=\u001b[0m\u001b[1;34m\"ignore\"\u001b[0m\u001b[1;33m)\u001b[0m\u001b[1;33m:\u001b[0m\u001b[1;33m\u001b[0m\u001b[1;33m\u001b[0m\u001b[0m\n\u001b[1;32m---> 69\u001b[1;33m                     \u001b[1;32mreturn\u001b[0m \u001b[0mf\u001b[0m\u001b[1;33m(\u001b[0m\u001b[1;33m*\u001b[0m\u001b[0margs\u001b[0m\u001b[1;33m,\u001b[0m \u001b[1;33m**\u001b[0m\u001b[0mkwargs\u001b[0m\u001b[1;33m)\u001b[0m\u001b[1;33m\u001b[0m\u001b[1;33m\u001b[0m\u001b[0m\n\u001b[0m\u001b[0;32m     70\u001b[0m             \u001b[1;32mexcept\u001b[0m \u001b[0mValueError\u001b[0m \u001b[1;32mas\u001b[0m \u001b[0me\u001b[0m\u001b[1;33m:\u001b[0m\u001b[1;33m\u001b[0m\u001b[1;33m\u001b[0m\u001b[0m\n\u001b[0;32m     71\u001b[0m                 \u001b[1;31m# we want to transform an object array\u001b[0m\u001b[1;33m\u001b[0m\u001b[1;33m\u001b[0m\u001b[1;33m\u001b[0m\u001b[0m\n",
      "\u001b[1;32m~\\anaconda3\\lib\\site-packages\\pandas\\core\\nanops.py\u001b[0m in \u001b[0;36mf\u001b[1;34m(values, axis, skipna, **kwds)\u001b[0m\n\u001b[0;32m    123\u001b[0m                     \u001b[0mresult\u001b[0m \u001b[1;33m=\u001b[0m \u001b[0malt\u001b[0m\u001b[1;33m(\u001b[0m\u001b[0mvalues\u001b[0m\u001b[1;33m,\u001b[0m \u001b[0maxis\u001b[0m\u001b[1;33m=\u001b[0m\u001b[0maxis\u001b[0m\u001b[1;33m,\u001b[0m \u001b[0mskipna\u001b[0m\u001b[1;33m=\u001b[0m\u001b[0mskipna\u001b[0m\u001b[1;33m,\u001b[0m \u001b[1;33m**\u001b[0m\u001b[0mkwds\u001b[0m\u001b[1;33m)\u001b[0m\u001b[1;33m\u001b[0m\u001b[1;33m\u001b[0m\u001b[0m\n\u001b[0;32m    124\u001b[0m             \u001b[1;32melse\u001b[0m\u001b[1;33m:\u001b[0m\u001b[1;33m\u001b[0m\u001b[1;33m\u001b[0m\u001b[0m\n\u001b[1;32m--> 125\u001b[1;33m                 \u001b[0mresult\u001b[0m \u001b[1;33m=\u001b[0m \u001b[0malt\u001b[0m\u001b[1;33m(\u001b[0m\u001b[0mvalues\u001b[0m\u001b[1;33m,\u001b[0m \u001b[0maxis\u001b[0m\u001b[1;33m=\u001b[0m\u001b[0maxis\u001b[0m\u001b[1;33m,\u001b[0m \u001b[0mskipna\u001b[0m\u001b[1;33m=\u001b[0m\u001b[0mskipna\u001b[0m\u001b[1;33m,\u001b[0m \u001b[1;33m**\u001b[0m\u001b[0mkwds\u001b[0m\u001b[1;33m)\u001b[0m\u001b[1;33m\u001b[0m\u001b[1;33m\u001b[0m\u001b[0m\n\u001b[0m\u001b[0;32m    126\u001b[0m \u001b[1;33m\u001b[0m\u001b[0m\n\u001b[0;32m    127\u001b[0m             \u001b[1;32mreturn\u001b[0m \u001b[0mresult\u001b[0m\u001b[1;33m\u001b[0m\u001b[1;33m\u001b[0m\u001b[0m\n",
      "\u001b[1;32m~\\anaconda3\\lib\\site-packages\\pandas\\core\\nanops.py\u001b[0m in \u001b[0;36mnanmean\u001b[1;34m(values, axis, skipna, mask)\u001b[0m\n\u001b[0;32m    540\u001b[0m         \u001b[0mdtype_count\u001b[0m \u001b[1;33m=\u001b[0m \u001b[0mdtype\u001b[0m\u001b[1;33m\u001b[0m\u001b[1;33m\u001b[0m\u001b[0m\n\u001b[0;32m    541\u001b[0m     \u001b[0mcount\u001b[0m \u001b[1;33m=\u001b[0m \u001b[0m_get_counts\u001b[0m\u001b[1;33m(\u001b[0m\u001b[0mvalues\u001b[0m\u001b[1;33m.\u001b[0m\u001b[0mshape\u001b[0m\u001b[1;33m,\u001b[0m \u001b[0mmask\u001b[0m\u001b[1;33m,\u001b[0m \u001b[0maxis\u001b[0m\u001b[1;33m,\u001b[0m \u001b[0mdtype\u001b[0m\u001b[1;33m=\u001b[0m\u001b[0mdtype_count\u001b[0m\u001b[1;33m)\u001b[0m\u001b[1;33m\u001b[0m\u001b[1;33m\u001b[0m\u001b[0m\n\u001b[1;32m--> 542\u001b[1;33m     \u001b[0mthe_sum\u001b[0m \u001b[1;33m=\u001b[0m \u001b[0m_ensure_numeric\u001b[0m\u001b[1;33m(\u001b[0m\u001b[0mvalues\u001b[0m\u001b[1;33m.\u001b[0m\u001b[0msum\u001b[0m\u001b[1;33m(\u001b[0m\u001b[0maxis\u001b[0m\u001b[1;33m,\u001b[0m \u001b[0mdtype\u001b[0m\u001b[1;33m=\u001b[0m\u001b[0mdtype_sum\u001b[0m\u001b[1;33m)\u001b[0m\u001b[1;33m)\u001b[0m\u001b[1;33m\u001b[0m\u001b[1;33m\u001b[0m\u001b[0m\n\u001b[0m\u001b[0;32m    543\u001b[0m \u001b[1;33m\u001b[0m\u001b[0m\n\u001b[0;32m    544\u001b[0m     \u001b[1;32mif\u001b[0m \u001b[0maxis\u001b[0m \u001b[1;32mis\u001b[0m \u001b[1;32mnot\u001b[0m \u001b[1;32mNone\u001b[0m \u001b[1;32mand\u001b[0m \u001b[0mgetattr\u001b[0m\u001b[1;33m(\u001b[0m\u001b[0mthe_sum\u001b[0m\u001b[1;33m,\u001b[0m \u001b[1;34m\"ndim\"\u001b[0m\u001b[1;33m,\u001b[0m \u001b[1;32mFalse\u001b[0m\u001b[1;33m)\u001b[0m\u001b[1;33m:\u001b[0m\u001b[1;33m\u001b[0m\u001b[1;33m\u001b[0m\u001b[0m\n",
      "\u001b[1;32m~\\anaconda3\\lib\\site-packages\\pandas\\core\\nanops.py\u001b[0m in \u001b[0;36m_ensure_numeric\u001b[1;34m(x)\u001b[0m\n\u001b[0;32m   1308\u001b[0m             \u001b[1;32mexcept\u001b[0m \u001b[0mValueError\u001b[0m\u001b[1;33m:\u001b[0m\u001b[1;33m\u001b[0m\u001b[1;33m\u001b[0m\u001b[0m\n\u001b[0;32m   1309\u001b[0m                 \u001b[1;31m# e.g. \"foo\"\u001b[0m\u001b[1;33m\u001b[0m\u001b[1;33m\u001b[0m\u001b[1;33m\u001b[0m\u001b[0m\n\u001b[1;32m-> 1310\u001b[1;33m                 \u001b[1;32mraise\u001b[0m \u001b[0mTypeError\u001b[0m\u001b[1;33m(\u001b[0m\u001b[1;34mf\"Could not convert {x} to numeric\"\u001b[0m\u001b[1;33m)\u001b[0m\u001b[1;33m\u001b[0m\u001b[1;33m\u001b[0m\u001b[0m\n\u001b[0m\u001b[0;32m   1311\u001b[0m     \u001b[1;32mreturn\u001b[0m \u001b[0mx\u001b[0m\u001b[1;33m\u001b[0m\u001b[1;33m\u001b[0m\u001b[0m\n\u001b[0;32m   1312\u001b[0m \u001b[1;33m\u001b[0m\u001b[0m\n",
      "\u001b[1;31mTypeError\u001b[0m: Could not convert RamicaneRamicaneRamicaneRamicaneRamicaneRamicaneRamicaneRamicaneRamicaneRamicaneCapomulinCapomulinCapomulinCapomulinCapomulinCapomulinCapomulinCapomulinCapomulinCapomulinCapomulinCapomulinCapomulinCapomulinCapomulinCapomulinCapomulinCapomulinCapomulinCapomulinCapomulinCapomulinCapomulinCapomulinCapomulinCapomulinCapomulinCapomulinCapomulinCapomulinRamicaneRamicaneRamicaneRamicaneRamicaneRamicaneRamicaneRamicaneRamicaneRamicaneRamicaneRamicaneRamicaneRamicaneRamicaneRamicaneRamicaneRamicaneRamicaneRamicaneCapomulinCapomulinCapomulinCapomulinCapomulinRamicaneRamicaneRamicaneRamicaneRamicaneRamicaneRamicaneRamicaneRamicaneRamicaneRamicaneRamicaneRamicaneRamicaneRamicaneRamicaneRamicaneRamicaneRamicaneRamicaneRamicaneRamicaneRamicaneRamicaneRamicaneRamicaneRamicaneRamicaneRamicaneRamicaneCapomulinCapomulinCapomulinCapomulinCapomulinCapomulinCapomulinCapomulinCapomulinCapomulinRamicaneRamicaneRamicaneRamicaneRamicaneRamicaneRamicaneRamicaneRamicaneRamicaneCapomulinCapomulinCapomulinCapomulinCapomulinCapomulinCapomulinCapomulinCapomulinCapomulinCapomulinCapomulinCapomulinCapomulinCapomulinCapomulinCapomulinCapomulinCapomulinCapomulinCapomulinCapomulinCapomulinCapomulinCapomulinCapomulinCapomulinCapomulinCapomulinCapomulinRamicaneRamicaneRamicaneRamicaneRamicaneRamicaneRamicaneRamicaneRamicaneRamicaneCapomulinCapomulinCapomulinCapomulinCapomulinCapomulinCapomulinCapomulinCapomulinCapomulinRamicaneRamicaneRamicaneRamicaneRamicaneRamicaneRamicaneRamicaneRamicaneRamicaneRamicaneRamicaneRamicaneRamicaneRamicaneRamicaneRamicaneRamicaneRamicaneRamicaneRamicaneRamicaneRamicaneRamicaneRamicaneRamicaneRamicaneRamicaneRamicaneRamicaneCapomulinCapomulinCapomulinCapomulinCapomulinCapomulinCapomulinCapomulinCapomulinCapomulinRamicaneRamicaneRamicaneRamicaneRamicaneRamicaneRamicaneRamicaneRamicaneRamicaneCapomulinCapomulinCapomulinCapomulinCapomulinCapomulinCapomulinCapomulinCapomulinCapomulinRamicaneRamicaneRamicaneRamicaneRamicaneRamicaneRamicaneRamicaneRamicaneRamicaneCapomulinCapomulinCapomulinCapomulinCapomulinCapomulinCapomulinCapomulinCapomulinCapomulinRamicaneRamicaneRamicaneRamicaneRamicaneRamicaneRamicaneRamicaneRamicaneRamicaneRamicaneRamicaneRamicaneRamicaneRamicaneRamicaneRamicaneRamicaneRamicaneRamicaneRamicaneRamicaneRamicaneRamicaneRamicaneRamicaneRamicaneRamicaneCapomulinCapomulinCapomulinCapomulinCapomulinCapomulinCapomulinCapomulinCapomulinCapomulinRamicaneRamicaneRamicaneRamicaneRamicaneRamicaneRamicaneCapomulinCapomulinCapomulinCapomulinCapomulinCapomulinCapomulinCapomulinCapomulinCapomulinCapomulinCapomulinCapomulinCapomulinCapomulinCapomulinCapomulinCapomulinCapomulinCapomulinCapomulinCapomulinCapomulinCapomulinCapomulinCapomulinCapomulinCapomulinRamicaneRamicaneRamicaneRamicaneRamicaneRamicaneRamicaneRamicaneRamicaneRamicaneCapomulinCapomulinCapomulinCapomulinCapomulinCapomulinCapomulinCapomulinCapomulinCapomulinCapomulinCapomulinCapomulinCapomulinCapomulinCapomulinCapomulinCapomulinCapomulinCapomulinCapomulinCapomulinCapomulinCapomulinCapomulinCapomulinCapomulinCapomulinCapomulinCapomulinCapomulinCapomulinCapomulinCapomulinCapomulinCapomulinCapomulinCapomulinCapomulinCapomulinCapomulinCapomulinCapomulinCapomulinCapomulinCapomulinCapomulinCapomulinCapomulinCapomulinCapomulinCapomulinCapomulinCapomulinCapomulinCapomulinCapomulinCapomulinCapomulinCapomulinCapomulinCapomulinCapomulinRamicaneRamicaneRamicaneRamicaneRamicaneRamicaneRamicaneRamicaneRamicaneRamicaneRamicaneRamicaneRamicaneRamicaneRamicaneRamicaneRamicaneRamicaneRamicaneRamicaneRamicaneRamicaneRamicaneRamicaneRamicaneRamicaneRamicaneRamicaneRamicaneRamicaneRamicaneRamicaneRamicaneRamicaneRamicaneRamicaneRamicaneRamicaneRamicaneRamicaneCapomulinCapomulinCapomulinCapomulinCapomulinCapomulinCapomulinCapomulinCapomulinCapomulinRamicaneRamicaneRamicaneRamicaneRamicaneRamicaneRamicaneRamicaneRamicaneRamicaneRamicaneRamicaneRamicaneInfubinolInfubinolInfubinolInfubinolInfubinolInfubinolInfubinolInfubinolInfubinolInfubinolInfubinolInfubinolInfubinolInfubinolInfubinolInfubinolInfubinolInfubinolInfubinolInfubinolPlaceboPlaceboPlaceboPlaceboPlaceboPlaceboPlaceboPlaceboPlaceboPlaceboCeftaminCeftaminCeftaminCeftaminCeftaminCeftaminCeftaminCeftaminCeftaminCeftaminStelasynStelasynStelasynStelasynStelasynStelasynStelasynZoniferolZoniferolZoniferolZoniferolZoniferolZoniferolZoniferolZoniferolZoniferolZoniferolKetaprilKetaprilKetaprilStelasynStelasynStelasynStelasynStelasynStelasynStelasynStelasynStelasynStelasynInfubinolInfubinolInfubinolInfubinolInfubinolInfubinolInfubinolInfubinolInfubinolInfubinolInfubinolInfubinolInfubinolInfubinolInfubinolInfubinolInfubinolProprivaProprivaProprivaProprivaProprivaProprivaProprivaProprivaProprivaProprivaZoniferolZoniferolZoniferolZoniferolZoniferolZoniferolZoniferolNaftisolNaftisolNaftisolNaftisolNaftisolNaftisolNaftisolNaftisolNaftisolNaftisolPlaceboPlaceboPlaceboPlaceboPlaceboPlaceboPlaceboPlaceboPlaceboPlaceboStelasynStelasynStelasynStelasynStelasynStelasynStelasynStelasynStelasynStelasynZoniferolZoniferolZoniferolZoniferolZoniferolZoniferolCeftaminCeftaminCeftaminCeftaminCeftaminCeftaminCeftaminNaftisolNaftisolNaftisolNaftisolNaftisolNaftisolNaftisolNaftisolNaftisolNaftisolCeftaminCeftaminCeftaminCeftaminCeftaminCeftaminCeftaminStelasynStelasynStelasynStelasynStelasynStelasynStelasynStelasynStelasynStelasynInfubinolInfubinolInfubinolInfubinolInfubinolInfubinolInfubinolInfubinolInfubinolInfubinolZoniferolZoniferolZoniferolZoniferolZoniferolZoniferolZoniferolZoniferolZoniferolZoniferolPlaceboPlaceboPlaceboPlaceboPlaceboPlaceboPlaceboPlaceboPlaceboPlaceboZoniferolZoniferolZoniferolZoniferolZoniferolZoniferolZoniferolZoniferolZoniferolZoniferolInfubinolInfubinolStelasynStelasynStelasynStelasynStelasynStelasynStelasynStelasynStelasynStelasynZoniferolZoniferolZoniferolZoniferolZoniferolZoniferolZoniferolZoniferolZoniferolZoniferolKetaprilKetaprilKetaprilKetaprilKetaprilKetaprilKetaprilPlaceboPlaceboPlaceboPlaceboPlaceboPlaceboPlaceboPlaceboPlaceboPlaceboPlaceboPlaceboPlaceboPlaceboPlaceboPlaceboPlaceboPlaceboPlaceboPlaceboKetaprilKetaprilKetaprilKetaprilKetaprilKetaprilKetaprilKetaprilKetaprilKetaprilKetaprilKetaprilKetaprilKetaprilKetaprilKetaprilKetaprilKetaprilKetaprilInfubinolInfubinolInfubinolInfubinolInfubinolInfubinolInfubinolProprivaProprivaProprivaProprivaProprivaProprivaProprivaProprivaProprivaZoniferolZoniferolZoniferolZoniferolKetaprilKetaprilKetaprilKetaprilKetaprilKetaprilKetaprilKetaprilKetaprilNaftisolNaftisolNaftisolNaftisolNaftisolNaftisolNaftisolNaftisolNaftisolNaftisolPlaceboPlaceboPlaceboPlaceboPlaceboPlaceboPlaceboPlaceboPlaceboPlaceboNaftisolNaftisolNaftisolNaftisolNaftisolNaftisolInfubinolInfubinolInfubinolInfubinolInfubinolInfubinolInfubinolInfubinolInfubinolInfubinolNaftisolNaftisolNaftisolNaftisolNaftisolNaftisolNaftisolNaftisolNaftisolNaftisolZoniferolZoniferolZoniferolZoniferolStelasynStelasynStelasynStelasynStelasynStelasynStelasynStelasynKetaprilKetaprilInfubinolInfubinolInfubinolInfubinolInfubinolInfubinolInfubinolInfubinolInfubinolInfubinolZoniferolZoniferolCeftaminCeftaminCeftaminCeftaminZoniferolZoniferolZoniferolZoniferolZoniferolZoniferolZoniferolZoniferolZoniferolZoniferolKetaprilNaftisolNaftisolNaftisolNaftisolNaftisolKetaprilKetaprilKetaprilKetaprilKetaprilKetaprilKetaprilKetaprilZoniferolZoniferolZoniferolZoniferolZoniferolZoniferolZoniferolZoniferolZoniferolZoniferolKetaprilKetaprilKetaprilKetaprilKetaprilKetaprilKetaprilKetaprilKetaprilKetaprilProprivaProprivaProprivaProprivaProprivaProprivaProprivaProprivaProprivaProprivaProprivaProprivaProprivaProprivaProprivaProprivaProprivaProprivaProprivaStelasynStelasynStelasynStelasynProprivaProprivaProprivaProprivaProprivaProprivaProprivaProprivaProprivaProprivaProprivaProprivaKetaprilKetaprilKetaprilKetaprilKetaprilKetaprilKetaprilKetaprilKetaprilKetaprilStelasynStelasynStelasynStelasynStelasynStelasynStelasynKetaprilCeftaminCeftaminInfubinolInfubinolInfubinolInfubinolInfubinolInfubinolInfubinolInfubinolInfubinolPlaceboPlaceboPlaceboProprivaProprivaProprivaProprivaProprivaProprivaProprivaProprivaProprivaProprivaPlaceboPlaceboPlaceboPlaceboPlaceboPlaceboStelasynStelasynStelasynStelasynStelasynStelasynStelasynStelasynStelasynStelasynPlaceboPlaceboPlaceboPlaceboPlaceboCeftaminCeftaminCeftaminCeftaminCeftaminCeftaminCeftaminCeftaminCeftaminCeftaminZoniferolZoniferolZoniferolZoniferolZoniferolZoniferolZoniferolZoniferolZoniferolZoniferolNaftisolNaftisolNaftisolNaftisolNaftisolNaftisolNaftisolNaftisolNaftisolNaftisolStelasynStelasynStelasynStelasynStelasynStelasynStelasynStelasynStelasynStelasynCeftaminCeftaminCeftaminCeftaminCeftaminCeftaminCeftaminCeftaminCeftaminCeftaminKetaprilKetaprilKetaprilKetaprilKetaprilKetaprilKetaprilKetaprilKetaprilKetaprilInfubinolInfubinolInfubinolInfubinolInfubinolInfubinolInfubinolInfubinolInfubinolInfubinolStelasynStelasynStelasynStelasynStelasynProprivaProprivaProprivaProprivaProprivaZoniferolZoniferolZoniferolZoniferolZoniferolInfubinolInfubinolInfubinolInfubinolInfubinolInfubinolInfubinolInfubinolStelasynStelasynStelasynStelasynStelasynStelasynStelasynStelasynStelasynStelasynZoniferolZoniferolZoniferolZoniferolZoniferolZoniferolZoniferolZoniferolZoniferolZoniferolProprivaProprivaProprivaKetaprilKetaprilKetaprilCeftaminCeftaminCeftaminCeftaminCeftaminCeftaminCeftaminCeftaminCeftaminCeftaminCeftaminCeftaminCeftaminCeftaminCeftaminCeftaminCeftaminCeftaminCeftaminCeftaminCeftaminCeftaminCeftaminCeftaminCeftaminCeftaminCeftaminCeftaminCeftaminCeftaminNaftisolNaftisolNaftisolNaftisolNaftisolNaftisolNaftisolNaftisolNaftisolNaftisolNaftisolNaftisolNaftisolNaftisolNaftisolNaftisolNaftisolNaftisolNaftisolNaftisolCeftaminCeftaminCeftaminCeftaminCeftaminCeftaminCeftaminCeftaminCeftaminCeftaminPlaceboNaftisolNaftisolNaftisolNaftisolNaftisolNaftisolStelasynStelasynStelasynStelasynStelasynStelasynStelasynStelasynStelasynStelasynZoniferolZoniferolZoniferolZoniferolKetaprilKetaprilKetaprilKetaprilKetaprilKetaprilKetaprilKetaprilKetaprilKetaprilKetaprilKetaprilKetaprilKetaprilKetaprilKetaprilKetaprilKetaprilKetaprilKetaprilInfubinolInfubinolNaftisolNaftisolNaftisolNaftisolNaftisolNaftisolNaftisolNaftisolNaftisolNaftisolProprivaProprivaProprivaInfubinolInfubinolInfubinolInfubinolInfubinolInfubinolInfubinolProprivaProprivaProprivaPlaceboPlaceboPlaceboPlaceboPlaceboPlaceboPlaceboPlaceboPlaceboKetaprilKetaprilKetaprilKetaprilKetaprilKetaprilKetaprilKetaprilKetaprilZoniferolZoniferolZoniferolZoniferolCeftaminCeftaminCeftaminCeftaminCeftaminCeftaminCeftaminCeftaminCeftaminCeftaminPlaceboPlaceboPlaceboPlaceboPlaceboPlaceboPlaceboKetaprilKetaprilKetaprilKetaprilKetaprilKetaprilKetaprilKetaprilKetaprilKetaprilProprivaProprivaProprivaProprivaProprivaProprivaProprivaProprivaProprivaProprivaProprivaProprivaProprivaNaftisolNaftisolNaftisolNaftisolPlaceboPlaceboPlaceboPlaceboPlaceboPlaceboPlaceboPlaceboPlaceboPlaceboInfubinolInfubinolInfubinolInfubinolInfubinolInfubinolInfubinolInfubinolInfubinolInfubinolStelasynZoniferolZoniferolZoniferolZoniferolZoniferolZoniferolZoniferolZoniferolZoniferolZoniferolKetaprilKetaprilKetaprilKetaprilKetaprilKetaprilKetaprilKetaprilKetaprilZoniferolZoniferolZoniferolZoniferolZoniferolZoniferolZoniferolZoniferolZoniferolZoniferolKetaprilKetaprilKetaprilKetaprilKetaprilKetaprilKetaprilKetaprilKetaprilKetaprilProprivaProprivaProprivaProprivaProprivaProprivaStelasynStelasynStelasynStelasynStelasynStelasynStelasynStelasynStelasynCeftaminCeftaminCeftaminCeftaminCeftaminCeftaminCeftaminCeftaminCeftaminCeftaminStelasynStelasynStelasynStelasynStelasynStelasynStelasynStelasynKetaprilKetaprilKetaprilInfubinolInfubinolInfubinolInfubinolInfubinolInfubinolInfubinolCeftaminCeftaminCeftaminCeftaminCeftaminCeftaminCeftaminCeftaminCeftaminZoniferolZoniferolZoniferolZoniferolZoniferolZoniferolZoniferolZoniferolZoniferolZoniferolPlaceboPlaceboPlaceboPlaceboPlaceboPlaceboPlaceboPlaceboZoniferolZoniferolZoniferolZoniferolZoniferolZoniferolZoniferolZoniferolZoniferolZoniferolPlaceboPlaceboPlaceboPlaceboPlaceboPlaceboPlaceboPlaceboPlaceboPlaceboProprivaProprivaProprivaProprivaProprivaProprivaProprivaCapomulinCapomulinCapomulinCapomulinNaftisolNaftisolNaftisolNaftisolNaftisolNaftisolNaftisolNaftisolNaftisolNaftisolNaftisolNaftisolNaftisolNaftisolNaftisolNaftisolNaftisolNaftisolNaftisolNaftisolPlaceboPlaceboPlaceboPlaceboInfubinolInfubinolInfubinolInfubinolInfubinolInfubinolProprivaProprivaProprivaProprivaProprivaProprivaProprivaPlaceboPlaceboPlaceboPlaceboPlaceboPlaceboPlaceboPlaceboPlaceboProprivaProprivaProprivaProprivaProprivaProprivaProprivaZoniferolZoniferolZoniferolZoniferolZoniferolZoniferolZoniferolZoniferolZoniferolZoniferolStelasynStelasynStelasynStelasynStelasynStelasynStelasynStelasynStelasynStelasynStelasynStelasynProprivaProprivaProprivaProprivaProprivaProprivaProprivaProprivaProprivaProprivaStelasynStelasynStelasynStelasynStelasynStelasynStelasynStelasynStelasynStelasynCeftaminPlaceboPlaceboPlaceboPlaceboPlaceboPlaceboPlaceboPlaceboPlaceboPlaceboNaftisolNaftisolNaftisolNaftisolNaftisolNaftisolNaftisolNaftisolNaftisolNaftisolPlaceboPlaceboPlaceboPlaceboPlaceboCeftaminCeftaminCeftaminCeftaminCeftaminCeftaminCeftaminKetaprilKetaprilKetaprilKetaprilKetaprilKetaprilKetaprilKetaprilKetaprilKetaprilProprivaProprivaProprivaProprivaProprivaNaftisolKetaprilKetaprilKetaprilKetaprilKetaprilKetaprilNaftisolNaftisolNaftisolNaftisolNaftisolNaftisolNaftisolNaftisolNaftisolInfubinolInfubinolPlaceboPlaceboPlaceboKetaprilKetaprilKetaprilKetaprilKetaprilKetaprilKetaprilKetaprilInfubinolInfubinolInfubinolInfubinolInfubinolStelasynStelasynStelasynStelasynInfubinolInfubinolInfubinolInfubinolNaftisolNaftisolNaftisolNaftisolNaftisolPlaceboPlaceboPlaceboProprivaProprivaProprivaProprivaProprivaProprivaProprivaProprivaProprivaProprivaZoniferolZoniferolCeftaminCeftaminCeftaminCeftaminCeftaminCeftaminCeftaminCeftaminCeftaminCeftaminPlaceboPlaceboPlaceboPlaceboPlaceboPlaceboPlaceboPlaceboInfubinolInfubinolInfubinolInfubinolInfubinolProprivaProprivaProprivaProprivaProprivaProprivaProprivaProprivaProprivaProprivaKetaprilKetaprilKetaprilKetaprilKetaprilKetaprilKetaprilKetaprilKetaprilKetaprilStelasynStelasynStelasynStelasynStelasynStelasynZoniferolZoniferolZoniferolZoniferolZoniferolZoniferolZoniferolZoniferolZoniferolZoniferolInfubinolInfubinolInfubinolInfubinolInfubinolInfubinolInfubinolStelasynStelasynStelasynStelasynStelasynStelasynStelasynStelasynProprivaProprivaProprivaProprivaProprivaProprivaProprivaProprivaCeftaminNaftisolNaftisolNaftisolNaftisolNaftisolNaftisolNaftisolNaftisolNaftisolNaftisolStelasynStelasynStelasynStelasynStelasynStelasynStelasynStelasynStelasynStelasynCeftaminCeftaminCeftaminCeftaminCeftaminCeftaminCeftaminCeftaminCeftaminCeftaminZoniferolZoniferolZoniferolZoniferolPlaceboPlaceboPlaceboPlaceboPlaceboPlaceboPlaceboPlaceboPlaceboPlaceboCeftaminCeftaminCeftaminCeftaminCeftaminCeftaminCeftaminCeftaminCeftaminCeftaminNaftisolNaftisolNaftisolNaftisolNaftisolNaftisolInfubinolInfubinolInfubinolInfubinolInfubinolInfubinolInfubinolInfubinolInfubinolInfubinolKetaprilKetaprilKetaprilKetaprilKetaprilKetaprilKetaprilKetaprilKetaprilKetaprilPlaceboPlaceboPlaceboPlaceboPlaceboPlaceboPlaceboPlaceboPlaceboPlaceboNaftisolNaftisolCeftaminCeftaminCeftaminCeftaminCeftaminCeftaminCeftaminCeftaminCeftaminCeftaminCeftaminCeftaminCeftaminCeftaminCeftaminCeftaminCeftaminCeftaminCeftaminCeftaminNaftisolNaftisolStelasynStelasynProprivaProprivaProprivaInfubinolInfubinolInfubinolInfubinolInfubinolInfubinolInfubinolInfubinolInfubinolInfubinolNaftisolNaftisolNaftisolNaftisolNaftisolNaftisolNaftisolNaftisolNaftisolNaftisolNaftisolNaftisolNaftisolNaftisolNaftisolNaftisolNaftisolNaftisolNaftisolNaftisol to numeric"
     ]
    }
   ],
   "source": [
    "# Generate a bar plot showing the total number of unique mice tested on each drug regimen using pandas.\n",
    "unique_mice=combinedf\n",
    "\n",
    "plt.hist(unique_mice['Mouse ID'])\n",
    "plt.xlabel('Drug Regimen')\n",
    "plt.ylabel('Total')\n",
    "plt.show()\n",
    "print(unique_mice['Drug Regimen'].mean())\n",
    "print(unique_mice['Drug Regimen'].median())\n",
    "print(unique_mice['Drug Regimen'].mode())\n"
   ]
  },
  {
   "cell_type": "code",
   "execution_count": 80,
   "metadata": {},
   "outputs": [
    {
     "ename": "TypeError",
     "evalue": "bar() missing 1 required positional argument: 'height'",
     "output_type": "error",
     "traceback": [
      "\u001b[1;31m---------------------------------------------------------------------------\u001b[0m",
      "\u001b[1;31mTypeError\u001b[0m                                 Traceback (most recent call last)",
      "\u001b[1;32m<ipython-input-80-041d316b3c47>\u001b[0m in \u001b[0;36m<module>\u001b[1;34m\u001b[0m\n\u001b[0;32m      5\u001b[0m \u001b[1;33m\u001b[0m\u001b[0m\n\u001b[0;32m      6\u001b[0m \u001b[1;33m\u001b[0m\u001b[0m\n\u001b[1;32m----> 7\u001b[1;33m \u001b[0mplt\u001b[0m\u001b[1;33m.\u001b[0m\u001b[0mbar\u001b[0m\u001b[1;33m(\u001b[0m\u001b[0mDrugs\u001b[0m\u001b[1;33m,\u001b[0m \u001b[0mcolor\u001b[0m\u001b[1;33m=\u001b[0m\u001b[1;34m\"b\"\u001b[0m\u001b[1;33m,\u001b[0m \u001b[0malign\u001b[0m\u001b[1;33m=\u001b[0m\u001b[1;34m\"center\"\u001b[0m\u001b[1;33m)\u001b[0m\u001b[1;33m\u001b[0m\u001b[1;33m\u001b[0m\u001b[0m\n\u001b[0m",
      "\u001b[1;31mTypeError\u001b[0m: bar() missing 1 required positional argument: 'height'"
     ]
    }
   ],
   "source": [
    "# Generate a bar plot showing the total number of unique mice tested on each drug regimen using pyplot.\n",
    "Drugs = [\"Ramicane\", \"Capomulin\", \"Infubinol\", \"Placebo\", \"Ceftamin\",\"Stelasyn\",\"Zoniferol\",\"Zoniferol\",\"Propriva\",\"Naftisol\",\"Propriva\",\"Naftisol\"]\n",
    "uniquemice = [10]\n",
    "# x_axis = np.arange(len(Drug Regimen))\n",
    "\n",
    "\n",
    "plt.bar(Drugs, color=\"b\", align=\"center\")"
   ]
  },
  {
   "cell_type": "code",
   "execution_count": null,
   "metadata": {},
   "outputs": [],
   "source": [
    "# Generate a pie plot showing the distribution of female versus male mice using pandas\n",
    "\n"
   ]
  },
  {
   "cell_type": "code",
   "execution_count": null,
   "metadata": {},
   "outputs": [],
   "source": [
    "# Generate a pie plot showing the distribution of female versus male mice using pyplot\n",
    "\n"
   ]
  },
  {
   "cell_type": "markdown",
   "metadata": {},
   "source": [
    "## Quartiles, Outliers and Boxplots"
   ]
  },
  {
   "cell_type": "code",
   "execution_count": null,
   "metadata": {},
   "outputs": [],
   "source": [
    "# Calculate the final tumor volume of each mouse across four of the treatment regimens:  \n",
    "# Capomulin, Ramicane, Infubinol, and Ceftamin\n",
    "\n",
    "# Start by getting the last (greatest) timepoint for each mouse\n",
    "\n",
    "\n",
    "# Merge this group df with the original dataframe to get the tumor volume at the last timepoint\n"
   ]
  },
  {
   "cell_type": "code",
   "execution_count": null,
   "metadata": {},
   "outputs": [],
   "source": [
    "# Put treatments into a list for for loop (and later for plot labels)\n",
    "\n",
    "\n",
    "# Create empty list to fill with tumor vol data (for plotting)\n",
    "\n",
    "\n",
    "# Calculate the IQR and quantitatively determine if there are any potential outliers. \n",
    "\n",
    "    \n",
    "    # Locate the rows which contain mice on each drug and get the tumor volumes\n",
    "    \n",
    "    \n",
    "    # add subset \n",
    "    \n",
    "    \n",
    "    # Determine outliers using upper and lower bounds\n",
    "    "
   ]
  },
  {
   "cell_type": "code",
   "execution_count": null,
   "metadata": {},
   "outputs": [],
   "source": [
    "# Generate a box plot of the final tumor volume of each mouse across four regimens of interest\n"
   ]
  },
  {
   "cell_type": "markdown",
   "metadata": {},
   "source": [
    "## Line and Scatter Plots"
   ]
  },
  {
   "cell_type": "code",
   "execution_count": null,
   "metadata": {},
   "outputs": [],
   "source": [
    "# Generate a line plot of tumor volume vs. time point for a mouse treated with Capomulin\n"
   ]
  },
  {
   "cell_type": "code",
   "execution_count": null,
   "metadata": {},
   "outputs": [],
   "source": [
    "# Generate a scatter plot of average tumor volume vs. mouse weight for the Capomulin regimen\n"
   ]
  },
  {
   "cell_type": "markdown",
   "metadata": {},
   "source": [
    "## Correlation and Regression"
   ]
  },
  {
   "cell_type": "code",
   "execution_count": null,
   "metadata": {},
   "outputs": [],
   "source": [
    "# Calculate the correlation coefficient and linear regression model \n",
    "# for mouse weight and average tumor volume for the Capomulin regimen\n"
   ]
  },
  {
   "cell_type": "code",
   "execution_count": null,
   "metadata": {},
   "outputs": [],
   "source": []
  }
 ],
 "metadata": {
  "anaconda-cloud": {},
  "kernelspec": {
   "display_name": "Python 3",
   "language": "python",
   "name": "python3"
  },
  "language_info": {
   "codemirror_mode": {
    "name": "ipython",
    "version": 3
   },
   "file_extension": ".py",
   "mimetype": "text/x-python",
   "name": "python",
   "nbconvert_exporter": "python",
   "pygments_lexer": "ipython3",
   "version": "3.8.3"
  }
 },
 "nbformat": 4,
 "nbformat_minor": 4
}
